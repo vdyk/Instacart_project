{
 "cells": [
  {
   "cell_type": "markdown",
   "id": "d2fb8452",
   "metadata": {},
   "source": [
    "# 00. Table of contents\n",
    "\n",
    " - Importing libraries\n",
    " - Importing Dataset\n",
    " - Creating a histogram of the “order_hour_of_day” column\n",
    " - Creating a bar chart from the “loyalty_flag” column\n",
    " - Checking whether there’s a difference in expenditure (prices) depending on the hour of the day (on a sample)\n",
    " - EDA on customer demographics: line chart exploring the connections between age and number of dependents (on a sample)\n",
    " - Creating scatterplot: connection between age and spending power\n"
   ]
  },
  {
   "cell_type": "markdown",
   "id": "400d1dd5",
   "metadata": {},
   "source": [
    "# 01. Importing libraries"
   ]
  },
  {
   "cell_type": "code",
   "execution_count": 1,
   "id": "449bd97c",
   "metadata": {},
   "outputs": [],
   "source": [
    "import pandas as pd\n",
    "import numpy as np\n",
    "import os\n",
    "import matplotlib.pyplot as plt\n",
    "import seaborn as sns\n",
    "import scipy"
   ]
  },
  {
   "cell_type": "markdown",
   "id": "d4555dbb",
   "metadata": {},
   "source": [
    "# 02. Importing dataset"
   ]
  },
  {
   "cell_type": "code",
   "execution_count": 3,
   "id": "8cec1918",
   "metadata": {},
   "outputs": [],
   "source": [
    "path = r'C:\\Users\\viki\\Documents\\Data Analytics\\Immersion\\Achievement 4\\Instacart Basket Analysis'"
   ]
  },
  {
   "cell_type": "code",
   "execution_count": 3,
   "id": "52fc88f7",
   "metadata": {},
   "outputs": [],
   "source": [
    "ords_prods_cust_merged= pd.read_pickle(os.path.join(path, '02 Data', 'Prepared Data', 'ords_prods_cust_merged.pkl'))"
   ]
  },
  {
   "cell_type": "markdown",
   "id": "efa2edd9",
   "metadata": {},
   "source": [
    "# 03. Further steps in the 2nd part of the task\n"
   ]
  },
  {
   "cell_type": "markdown",
   "id": "c84a37ca",
   "metadata": {},
   "source": [
    "### Step 2. If you haven’t done so already, follow the instructions in the Exercise to create a bar chart, a histogram, a scatterplot, and a line chart, using a sample subset for the line chart"
   ]
  },
  {
   "cell_type": "markdown",
   "id": "67f1f035",
   "metadata": {},
   "source": [
    "<font color=blue>please see separate Notebook for the \"do along\"</font>"
   ]
  },
  {
   "cell_type": "markdown",
   "id": "8e81b062",
   "metadata": {},
   "source": [
    "### Step 3. You need to provide the Instacart senior stakeholders with descriptive findings about sales. Create a histogram of the “order_hour_of_day” column.\n",
    "\n",
    "    In a markdown cell beneath your histogram, describe what the histogram demonstrates.\n"
   ]
  },
  {
   "cell_type": "code",
   "execution_count": 4,
   "id": "a18f4137",
   "metadata": {},
   "outputs": [
    {
     "data": {
      "text/html": [
       "<div>\n",
       "<style scoped>\n",
       "    .dataframe tbody tr th:only-of-type {\n",
       "        vertical-align: middle;\n",
       "    }\n",
       "\n",
       "    .dataframe tbody tr th {\n",
       "        vertical-align: top;\n",
       "    }\n",
       "\n",
       "    .dataframe thead th {\n",
       "        text-align: right;\n",
       "    }\n",
       "</style>\n",
       "<table border=\"1\" class=\"dataframe\">\n",
       "  <thead>\n",
       "    <tr style=\"text-align: right;\">\n",
       "      <th></th>\n",
       "      <th>order_id</th>\n",
       "      <th>user_id</th>\n",
       "      <th>order_number</th>\n",
       "      <th>orders_day_of_week</th>\n",
       "      <th>order_hour_of_day</th>\n",
       "      <th>days_since_prior_order</th>\n",
       "      <th>product_id</th>\n",
       "      <th>add_to_cart_order</th>\n",
       "      <th>reordered</th>\n",
       "      <th>product_name</th>\n",
       "      <th>...</th>\n",
       "      <th>frequency_flag</th>\n",
       "      <th>First Name</th>\n",
       "      <th>Surname</th>\n",
       "      <th>Gender</th>\n",
       "      <th>State</th>\n",
       "      <th>Age</th>\n",
       "      <th>date_joined</th>\n",
       "      <th>n_dependants</th>\n",
       "      <th>fam_status</th>\n",
       "      <th>Income</th>\n",
       "    </tr>\n",
       "  </thead>\n",
       "  <tbody>\n",
       "    <tr>\n",
       "      <th>0</th>\n",
       "      <td>2539329</td>\n",
       "      <td>1</td>\n",
       "      <td>1</td>\n",
       "      <td>2</td>\n",
       "      <td>8</td>\n",
       "      <td>11.0</td>\n",
       "      <td>196</td>\n",
       "      <td>1</td>\n",
       "      <td>0</td>\n",
       "      <td>Soda</td>\n",
       "      <td>...</td>\n",
       "      <td>Regular customer</td>\n",
       "      <td>Linda</td>\n",
       "      <td>Nguyen</td>\n",
       "      <td>Female</td>\n",
       "      <td>Alabama</td>\n",
       "      <td>31</td>\n",
       "      <td>2/17/2019</td>\n",
       "      <td>3</td>\n",
       "      <td>married</td>\n",
       "      <td>40423</td>\n",
       "    </tr>\n",
       "    <tr>\n",
       "      <th>1</th>\n",
       "      <td>2398795</td>\n",
       "      <td>1</td>\n",
       "      <td>2</td>\n",
       "      <td>3</td>\n",
       "      <td>7</td>\n",
       "      <td>15.0</td>\n",
       "      <td>196</td>\n",
       "      <td>1</td>\n",
       "      <td>1</td>\n",
       "      <td>Soda</td>\n",
       "      <td>...</td>\n",
       "      <td>Regular customer</td>\n",
       "      <td>Linda</td>\n",
       "      <td>Nguyen</td>\n",
       "      <td>Female</td>\n",
       "      <td>Alabama</td>\n",
       "      <td>31</td>\n",
       "      <td>2/17/2019</td>\n",
       "      <td>3</td>\n",
       "      <td>married</td>\n",
       "      <td>40423</td>\n",
       "    </tr>\n",
       "    <tr>\n",
       "      <th>2</th>\n",
       "      <td>473747</td>\n",
       "      <td>1</td>\n",
       "      <td>3</td>\n",
       "      <td>3</td>\n",
       "      <td>12</td>\n",
       "      <td>21.0</td>\n",
       "      <td>196</td>\n",
       "      <td>1</td>\n",
       "      <td>1</td>\n",
       "      <td>Soda</td>\n",
       "      <td>...</td>\n",
       "      <td>Regular customer</td>\n",
       "      <td>Linda</td>\n",
       "      <td>Nguyen</td>\n",
       "      <td>Female</td>\n",
       "      <td>Alabama</td>\n",
       "      <td>31</td>\n",
       "      <td>2/17/2019</td>\n",
       "      <td>3</td>\n",
       "      <td>married</td>\n",
       "      <td>40423</td>\n",
       "    </tr>\n",
       "    <tr>\n",
       "      <th>3</th>\n",
       "      <td>2254736</td>\n",
       "      <td>1</td>\n",
       "      <td>4</td>\n",
       "      <td>4</td>\n",
       "      <td>7</td>\n",
       "      <td>29.0</td>\n",
       "      <td>196</td>\n",
       "      <td>1</td>\n",
       "      <td>1</td>\n",
       "      <td>Soda</td>\n",
       "      <td>...</td>\n",
       "      <td>Regular customer</td>\n",
       "      <td>Linda</td>\n",
       "      <td>Nguyen</td>\n",
       "      <td>Female</td>\n",
       "      <td>Alabama</td>\n",
       "      <td>31</td>\n",
       "      <td>2/17/2019</td>\n",
       "      <td>3</td>\n",
       "      <td>married</td>\n",
       "      <td>40423</td>\n",
       "    </tr>\n",
       "    <tr>\n",
       "      <th>4</th>\n",
       "      <td>431534</td>\n",
       "      <td>1</td>\n",
       "      <td>5</td>\n",
       "      <td>4</td>\n",
       "      <td>15</td>\n",
       "      <td>28.0</td>\n",
       "      <td>196</td>\n",
       "      <td>1</td>\n",
       "      <td>1</td>\n",
       "      <td>Soda</td>\n",
       "      <td>...</td>\n",
       "      <td>Regular customer</td>\n",
       "      <td>Linda</td>\n",
       "      <td>Nguyen</td>\n",
       "      <td>Female</td>\n",
       "      <td>Alabama</td>\n",
       "      <td>31</td>\n",
       "      <td>2/17/2019</td>\n",
       "      <td>3</td>\n",
       "      <td>married</td>\n",
       "      <td>40423</td>\n",
       "    </tr>\n",
       "  </tbody>\n",
       "</table>\n",
       "<p>5 rows × 32 columns</p>\n",
       "</div>"
      ],
      "text/plain": [
       "   order_id user_id  order_number  orders_day_of_week  order_hour_of_day  \\\n",
       "0   2539329       1             1                   2                  8   \n",
       "1   2398795       1             2                   3                  7   \n",
       "2    473747       1             3                   3                 12   \n",
       "3   2254736       1             4                   4                  7   \n",
       "4    431534       1             5                   4                 15   \n",
       "\n",
       "   days_since_prior_order  product_id  add_to_cart_order  reordered  \\\n",
       "0                    11.0         196                  1          0   \n",
       "1                    15.0         196                  1          1   \n",
       "2                    21.0         196                  1          1   \n",
       "3                    29.0         196                  1          1   \n",
       "4                    28.0         196                  1          1   \n",
       "\n",
       "  product_name  ...    frequency_flag  First Name  Surname  Gender    State  \\\n",
       "0         Soda  ...  Regular customer       Linda   Nguyen  Female  Alabama   \n",
       "1         Soda  ...  Regular customer       Linda   Nguyen  Female  Alabama   \n",
       "2         Soda  ...  Regular customer       Linda   Nguyen  Female  Alabama   \n",
       "3         Soda  ...  Regular customer       Linda   Nguyen  Female  Alabama   \n",
       "4         Soda  ...  Regular customer       Linda   Nguyen  Female  Alabama   \n",
       "\n",
       "  Age date_joined  n_dependants fam_status  Income  \n",
       "0  31   2/17/2019             3    married   40423  \n",
       "1  31   2/17/2019             3    married   40423  \n",
       "2  31   2/17/2019             3    married   40423  \n",
       "3  31   2/17/2019             3    married   40423  \n",
       "4  31   2/17/2019             3    married   40423  \n",
       "\n",
       "[5 rows x 32 columns]"
      ]
     },
     "execution_count": 4,
     "metadata": {},
     "output_type": "execute_result"
    }
   ],
   "source": [
    "ords_prods_cust_merged.head()"
   ]
  },
  {
   "cell_type": "code",
   "execution_count": 5,
   "id": "30a71914",
   "metadata": {},
   "outputs": [
    {
     "data": {
      "text/plain": [
       "Text(0, 0.5, 'Number of orders')"
      ]
     },
     "execution_count": 5,
     "metadata": {},
     "output_type": "execute_result"
    },
    {
     "data": {
      "image/png": "[encoded data removed]",
      "text/plain": [
       "<Figure size 432x288 with 1 Axes>"
      ]
     },
     "metadata": {
      "needs_background": "light"
     },
     "output_type": "display_data"
    }
   ],
   "source": [
    "# creating histogram with 24 bins\n",
    "q1_hist_hours_of_the_day = ords_prods_cust_merged['order_hour_of_day'].plot.hist(bins = 24)\n",
    "plt.title ('Distribution of orders throughout the hours')\n",
    "plt.xlabel(\"Hours of the day\", fontsize=9)\n",
    "plt.ylabel(\"Number of orders\",fontsize=9)"
   ]
  },
  {
   "cell_type": "markdown",
   "id": "f8cb6cff",
   "metadata": {},
   "source": [
    "<font color=blue>The histogram shows in an hourly (24 bins) breakdown the frequency of the orders. We can see that most of the orders take place between 9-17 during the day and the least orders are between 2-5 AM </font>"
   ]
  },
  {
   "cell_type": "code",
   "execution_count": 6,
   "id": "0a052a00",
   "metadata": {},
   "outputs": [],
   "source": [
    "# exporting histogram\n",
    "q1_hist_hours_of_the_day.figure.savefig(os.path.join(path, '04 Analysis','Visualizations', 'q1_hist_hours_of_the_day.png'))"
   ]
  },
  {
   "cell_type": "markdown",
   "id": "feadeefc",
   "metadata": {},
   "source": [
    "### Step 4. The marketing team is curious about the distribution of orders among customers in terms of loyalty. Create a bar chart from the “loyalty_flag” column"
   ]
  },
  {
   "cell_type": "code",
   "execution_count": 7,
   "id": "1225aa22",
   "metadata": {},
   "outputs": [
    {
     "data": {
      "text/plain": [
       "Text(0, 0.5, 'Number of customers')"
      ]
     },
     "execution_count": 7,
     "metadata": {},
     "output_type": "execute_result"
    },
    {
     "data": {
      "image/png": "[encoded data removed]",
      "text/plain": [
       "<Figure size 432x288 with 1 Axes>"
      ]
     },
     "metadata": {
      "needs_background": "light"
     },
     "output_type": "display_data"
    }
   ],
   "source": [
    "# creating bar chart\n",
    "bar_loyalty_flag = ords_prods_cust_merged['loyalty_flag'].value_counts().plot.bar()\n",
    "plt.xlabel(\"Loyalty Flag\", fontsize=15)\n",
    "plt.ylabel(\"Number of customers\",fontsize=15)"
   ]
  },
  {
   "cell_type": "code",
   "execution_count": 8,
   "id": "1fa69096",
   "metadata": {},
   "outputs": [],
   "source": [
    "# exporting bar chart\n",
    "bar_loyalty_flag .figure.savefig(os.path.join(path, '04 Analysis','Visualizations', 'bar_loyalty_flag.png'))"
   ]
  },
  {
   "cell_type": "markdown",
   "id": "6ccd2558",
   "metadata": {},
   "source": [
    "### Step 5. Check whether there’s a difference in expenditure (the “prices” column) depending on the hour of the day. (Hint: To check this, you need to use an accurate sample for your line chart!)"
   ]
  },
  {
   "cell_type": "code",
   "execution_count": 9,
   "id": "7113aa85",
   "metadata": {},
   "outputs": [],
   "source": [
    "# creating seed for sampling\n",
    "np.random.seed(4)"
   ]
  },
  {
   "cell_type": "code",
   "execution_count": 10,
   "id": "fa4c2070",
   "metadata": {},
   "outputs": [],
   "source": [
    "# creating a list holding True/False values to the test np.random.rand()<= 0.7\n",
    "dev = np.random.rand(len(ords_prods_cust_merged)) <= 0.7"
   ]
  },
  {
   "cell_type": "code",
   "execution_count": 11,
   "id": "7e7d770b",
   "metadata": {},
   "outputs": [],
   "source": [
    "# store 70 % of the sample in df big - didnt execute to save memory\n",
    "# len_big = len(ords_prods_cust_merged[dev])"
   ]
  },
  {
   "cell_type": "code",
   "execution_count": 12,
   "id": "1f334942",
   "metadata": {},
   "outputs": [],
   "source": [
    "# store 30 % of the sample in the df small\n",
    "small = ords_prods_cust_merged[~dev]\n",
    "dev = None # Let the garbage collector dispose dev"
   ]
  },
  {
   "cell_type": "code",
   "execution_count": 13,
   "id": "e876558e",
   "metadata": {},
   "outputs": [],
   "source": [
    "# checking if the split was working\n",
    "# len(ords_prods_cust_merged)"
   ]
  },
  {
   "cell_type": "code",
   "execution_count": 17,
   "id": "c5bdbd54",
   "metadata": {},
   "outputs": [],
   "source": [
    "#disposing initial df from memory\n",
    "ords_prods_cust_merged= None"
   ]
  },
  {
   "cell_type": "code",
   "execution_count": 5,
   "id": "806d7434",
   "metadata": {},
   "outputs": [],
   "source": [
    "# creating subset with relevant columns for the line chart\n",
    "df_2 = small[['order_hour_of_day','prices']]"
   ]
  },
  {
   "cell_type": "code",
   "execution_count": 6,
   "id": "a48a13be",
   "metadata": {},
   "outputs": [
    {
     "data": {
      "text/plain": [
       "Text(0, 0.5, 'Prices in $')"
      ]
     },
     "execution_count": 6,
     "metadata": {},
     "output_type": "execute_result"
    },
    {
     "data": {
      "image/png": "[encoded data removed]",
      "text/plain": [
       "<Figure size 432x288 with 1 Axes>"
      ]
     },
     "metadata": {
      "needs_background": "light"
     },
     "output_type": "display_data"
    }
   ],
   "source": [
    "# creating line chart\n",
    "q2_line_hour_vs_prices = sns.lineplot(data = df_2, x = 'order_hour_of_day',y = 'prices')\n",
    "plt.title('Expenditure throughout the hours')\n",
    "plt.xlabel('Hour of day', fontsize=9)\n",
    "plt.ylabel('Prices in $',fontsize=9)"
   ]
  },
  {
   "cell_type": "code",
   "execution_count": 7,
   "id": "d2da2084",
   "metadata": {},
   "outputs": [],
   "source": [
    "# exporting line chart\n",
    "q2_line_hour_vs_prices .figure.savefig(os.path.join(path, '04 Analysis','Visualizations', 'q2_line_hour_vs_prices.png'))"
   ]
  },
  {
   "cell_type": "markdown",
   "id": "bd027a22",
   "metadata": {},
   "source": [
    "### Step 6. Now that you have information about customers, you need to conduct some exploratory analysis of customer demographics to inform the targeted marketing campaigns. First, determine whether there’s a connection between age and family status by creating a line chart exploring the connections between age and number of dependents:\n",
    "\n",
    "    In a markdown cell beneath your line chart, describe what the line chart shows.\n"
   ]
  },
  {
   "cell_type": "code",
   "execution_count": null,
   "id": "4c3fc64f",
   "metadata": {},
   "outputs": [],
   "source": [
    "df_3 = small[['Age','n_dependants', 'Income']]"
   ]
  },
  {
   "cell_type": "code",
   "execution_count": null,
   "id": "739659c2",
   "metadata": {},
   "outputs": [],
   "source": [
    "# creating line chart\n",
    "line_age_vs_family_status = sns.lineplot(data = df_3, x = 'Age',y = 'n_dependants')\n",
    "plt.xlabel(\"Age\", fontsize=15)\n",
    "plt.ylabel(\"n_dependants\",fontsize=15)"
   ]
  },
  {
   "cell_type": "markdown",
   "id": "d45c097b",
   "metadata": {},
   "source": [
    "<font color=blue> No real connection can be seen between age and number of dependants </font>"
   ]
  },
  {
   "cell_type": "code",
   "execution_count": null,
   "id": "aef73cbc",
   "metadata": {},
   "outputs": [],
   "source": [
    "# exporting line chart\n",
    "line_age_vs_family_status.figure.savefig(os.path.join(path, '04 Analysis','Visualizations', 'line_age_vs_family_status.png'))"
   ]
  },
  {
   "cell_type": "markdown",
   "id": "0e971d19",
   "metadata": {},
   "source": [
    "### Step 7. You’ll also need to explore whether there’s a connection between age and spending power. To visualize this relationship, create a scatterplot using the sns.scatterplot() function.\n",
    "\n",
    "    In a markdown cell beneath your scatterplot, describe what the scatterplot shows.\n"
   ]
  },
  {
   "cell_type": "code",
   "execution_count": null,
   "id": "a16da972",
   "metadata": {},
   "outputs": [],
   "source": [
    "# creating scatterpot\n",
    "scatterplot_age_vs_income = sns.scatterplot(x = 'Age', y = 'Income',data = df_3)\n"
   ]
  },
  {
   "cell_type": "markdown",
   "id": "7a40f4c5",
   "metadata": {},
   "source": [
    "<font color=blue> We can see that very high income (>400k) individuals are all older than 40. The spending power of people under 40 is lower than above 40. </font>"
   ]
  },
  {
   "cell_type": "code",
   "execution_count": null,
   "id": "8da3492c",
   "metadata": {},
   "outputs": [],
   "source": [
    "#exporting scatterplot\n",
    "scatterplot_age_vs_income.figure.savefig(os.path.join(path, '04 Analysis','Visualizations', 'scatterplot_age_vs_income.png'))"
   ]
  },
  {
   "cell_type": "markdown",
   "id": "b33d8307",
   "metadata": {},
   "source": [
    "### Step 8. Export your visualizations as “.png” files in your relevant project folder."
   ]
  },
  {
   "cell_type": "markdown",
   "id": "255cc15b",
   "metadata": {},
   "source": [
    "<font color=blue> Already exported all the charts at the end of each step </font>"
   ]
  },
  {
   "cell_type": "markdown",
   "id": "49ac6c3e",
   "metadata": {},
   "source": [
    "# 03. Exporting sample df\n",
    "#### maybe it will be needed for the final task for peparing further charts etc"
   ]
  },
  {
   "cell_type": "code",
   "execution_count": null,
   "id": "2e61cf66",
   "metadata": {},
   "outputs": [],
   "source": [
    "small.to_pickle(os.path.join(path, '02 Data','Prepared Data', '30percent_sample_ords_prods_cust_merged.pkl'))\n"
   ]
  },
  {
   "cell_type": "code",
   "execution_count": null,
   "id": "31f70846",
   "metadata": {},
   "outputs": [],
   "source": []
  }
 ],
 "metadata": {
  "interpreter": {
   "hash": "37bc9cb481dd76020e77350174e1075615d0c5d54844476f7953063dbc44c26a"
  },
  "kernelspec": {
   "display_name": "Python 3.9.12 64-bit (windows store)",
   "language": "python",
   "name": "python3"
  },
  "language_info": {
   "codemirror_mode": {
    "name": "ipython",
    "version": 3
   },
   "file_extension": ".py",
   "mimetype": "text/x-python",
   "name": "python",
   "nbconvert_exporter": "python",
   "pygments_lexer": "ipython3",
   "version": "3.9.12"
  }
 },
 "nbformat": 4,
 "nbformat_minor": 5
}
