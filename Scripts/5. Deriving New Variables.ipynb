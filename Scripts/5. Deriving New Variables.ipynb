{
 "cells": [
  {
   "cell_type": "markdown",
   "id": "7c83a588",
   "metadata": {},
   "source": [
    "# 00. Table of contents\n",
    " - Importing libraries\n",
    " - Importing Dataset\n",
    " - Creating price labels (with IF function) for a subset\n",
    " - Creating price labels (with loc function) for the entire merged dataframe\n",
    " - Creating new column for flagging how busy a day is (2 versions: busiest day and busiest days)\n",
    " - Creating new column for labeling period of day how busy is based on number of orders"
   ]
  },
  {
   "cell_type": "markdown",
   "id": "d16ed76d",
   "metadata": {},
   "source": [
    "# 01. Importing libraries"
   ]
  },
  {
   "cell_type": "code",
   "execution_count": 1,
   "id": "72086594",
   "metadata": {},
   "outputs": [],
   "source": [
    "# Import libraries\n",
    "\n",
    "import pandas as pd\n",
    "import numpy as np\n",
    "import os"
   ]
  },
  {
   "cell_type": "markdown",
   "id": "ffba594c",
   "metadata": {},
   "source": [
    "# 02. Importing dataset"
   ]
  },
  {
   "cell_type": "code",
   "execution_count": 2,
   "id": "b2fa8618",
   "metadata": {},
   "outputs": [],
   "source": [
    "path = r'C:\\Users\\viki\\Documents\\Data Analytics\\Immersion\\Achievement 4\\Instacart Basket Analysis'"
   ]
  },
  {
   "cell_type": "code",
   "execution_count": 3,
   "id": "ac8a2232",
   "metadata": {},
   "outputs": [],
   "source": [
    "df_ords_prods_merge= pd.read_pickle(os.path.join(path, '02 Data', 'Prepared Data', 'orders_products_merged.pkl'))"
   ]
  },
  {
   "cell_type": "code",
   "execution_count": 4,
   "id": "265a0e61",
   "metadata": {},
   "outputs": [
    {
     "data": {
      "text/plain": [
       "(32404859, 13)"
      ]
     },
     "execution_count": 4,
     "metadata": {},
     "output_type": "execute_result"
    }
   ],
   "source": [
    "df_ords_prods_merge.shape"
   ]
  },
  {
   "cell_type": "markdown",
   "id": "07537163",
   "metadata": {},
   "source": [
    "# 03. Creating a subset to avoid memory issues"
   ]
  },
  {
   "cell_type": "code",
   "execution_count": 5,
   "id": "4ecb68d2",
   "metadata": {},
   "outputs": [],
   "source": [
    "#creating subset of the first 1 million rows\n",
    "df = df_ords_prods_merge[:1000000]"
   ]
  },
  {
   "cell_type": "markdown",
   "id": "6c767e15",
   "metadata": {},
   "source": [
    "# 04. Creating price labels with IF statements\n"
   ]
  },
  {
   "cell_type": "code",
   "execution_count": 6,
   "id": "30e14ffc",
   "metadata": {},
   "outputs": [],
   "source": [
    "# defining new variable\n",
    "def price_label(row):\n",
    "\n",
    "  if row['prices'] <= 5:\n",
    "    return 'Low-range product'\n",
    "  elif (row['prices'] > 5) and (row['prices'] <= 15):\n",
    "    return 'Mid-range product'\n",
    "  elif row['prices'] > 15:\n",
    "    return 'High range'\n",
    "  else: return 'Not enough data'"
   ]
  },
  {
   "cell_type": "code",
   "execution_count": 7,
   "id": "ef0b356d",
   "metadata": {},
   "outputs": [
    {
     "name": "stderr",
     "output_type": "stream",
     "text": [
      "C:\\Users\\viki\\AppData\\Local\\Temp/ipykernel_12804/3923630218.py:2: SettingWithCopyWarning: \n",
      "A value is trying to be set on a copy of a slice from a DataFrame.\n",
      "Try using .loc[row_indexer,col_indexer] = value instead\n",
      "\n",
      "See the caveats in the documentation: https://pandas.pydata.org/pandas-docs/stable/user_guide/indexing.html#returning-a-view-versus-a-copy\n",
      "  df['price_range'] = df.apply(price_label, axis=1)\n"
     ]
    }
   ],
   "source": [
    "# creating new column for price range\n",
    "df['price_range'] = df.apply(price_label, axis=1)"
   ]
  },
  {
   "cell_type": "code",
   "execution_count": 8,
   "id": "05c972d4",
   "metadata": {},
   "outputs": [
    {
     "data": {
      "text/plain": [
       "Mid-range product    756450\n",
       "Low-range product    243550\n",
       "Name: price_range, dtype: int64"
      ]
     },
     "execution_count": 8,
     "metadata": {},
     "output_type": "execute_result"
    }
   ],
   "source": [
    "#checking frequency in our new column\n",
    "df['price_range'].value_counts()"
   ]
  },
  {
   "cell_type": "code",
   "execution_count": 9,
   "id": "698bdd38",
   "metadata": {},
   "outputs": [
    {
     "data": {
      "text/plain": [
       "14.8"
      ]
     },
     "execution_count": 9,
     "metadata": {},
     "output_type": "execute_result"
    }
   ],
   "source": [
    "#looking for the most expensive product\n",
    "df['prices'].max()"
   ]
  },
  {
   "cell_type": "markdown",
   "id": "521e3eae",
   "metadata": {},
   "source": [
    "# 05. creating price labels with loc for the entire df"
   ]
  },
  {
   "cell_type": "code",
   "execution_count": 10,
   "id": "7253e5a1",
   "metadata": {},
   "outputs": [],
   "source": [
    "df_ords_prods_merge.loc[df_ords_prods_merge['prices'] > 15, 'price_range_loc'] = 'High-range product'"
   ]
  },
  {
   "cell_type": "code",
   "execution_count": 11,
   "id": "80cb9af3",
   "metadata": {},
   "outputs": [],
   "source": [
    "df_ords_prods_merge.loc[(df_ords_prods_merge['prices'] <= 15) & (df_ords_prods_merge['prices'] > 5), 'price_range_loc'] = 'Mid-range product' "
   ]
  },
  {
   "cell_type": "code",
   "execution_count": 12,
   "id": "5ca27f70",
   "metadata": {},
   "outputs": [],
   "source": [
    "df_ords_prods_merge.loc[df_ords_prods_merge['prices'] <= 5, 'price_range_loc'] = 'Low-range product'"
   ]
  },
  {
   "cell_type": "code",
   "execution_count": 13,
   "id": "a1dbab99",
   "metadata": {},
   "outputs": [
    {
     "data": {
      "text/plain": [
       "Mid-range product     21860860\n",
       "Low-range product     10126321\n",
       "High-range product      417678\n",
       "Name: price_range_loc, dtype: int64"
      ]
     },
     "execution_count": 13,
     "metadata": {},
     "output_type": "execute_result"
    }
   ],
   "source": [
    "#checing frequency on the newly created column\n",
    "df_ords_prods_merge['price_range_loc'].value_counts()"
   ]
  },
  {
   "cell_type": "markdown",
   "id": "e2d4a33a",
   "metadata": {},
   "source": [
    "# 06. analysing how busy each dow is"
   ]
  },
  {
   "cell_type": "code",
   "execution_count": 14,
   "id": "c2f3e63b",
   "metadata": {},
   "outputs": [
    {
     "data": {
      "text/plain": [
       "0    6204182\n",
       "1    5660230\n",
       "6    4496490\n",
       "2    4213830\n",
       "5    4205791\n",
       "3    3840534\n",
       "4    3783802\n",
       "Name: orders_day_of_week, dtype: int64"
      ]
     },
     "execution_count": 14,
     "metadata": {},
     "output_type": "execute_result"
    }
   ],
   "source": [
    "# checking frequency of dow\n",
    "df_ords_prods_merge['orders_day_of_week'].value_counts(dropna=False)"
   ]
  },
  {
   "cell_type": "code",
   "execution_count": 15,
   "id": "f1ce8af6",
   "metadata": {},
   "outputs": [],
   "source": [
    "#creating a list to categorise how busy a day is\n",
    "result = []\n",
    "\n",
    "for value in df_ords_prods_merge[\"orders_day_of_week\"]:\n",
    "  if value == 0:\n",
    "    result.append(\"Busiest day\")\n",
    "  elif value == 4:\n",
    "    result.append(\"Least busy\")\n",
    "  else:\n",
    "    result.append(\"Regularly busy\")"
   ]
  },
  {
   "cell_type": "code",
   "execution_count": 16,
   "id": "e208fba6",
   "metadata": {},
   "outputs": [],
   "source": [
    "#creating a new column with the result list\n",
    "df_ords_prods_merge['busiest_day']= result"
   ]
  },
  {
   "cell_type": "code",
   "execution_count": 17,
   "id": "53fec900",
   "metadata": {},
   "outputs": [
    {
     "data": {
      "text/plain": [
       "Regularly busy    22416875\n",
       "Busiest day        6204182\n",
       "Least busy         3783802\n",
       "Name: busiest_day, dtype: int64"
      ]
     },
     "execution_count": 17,
     "metadata": {},
     "output_type": "execute_result"
    }
   ],
   "source": [
    "#checking frequency on the new column\n",
    "df_ords_prods_merge['busiest_day'].value_counts(dropna=False)"
   ]
  },
  {
   "cell_type": "markdown",
   "id": "e5222707",
   "metadata": {},
   "source": [
    "# 07. Task\n",
    "## Step 2\n",
    "### Suppose your clients have changed their minds about the labels you created in your “busiest_day” column. Now, they want “Busiest day” to become “Busiest days” (plural). This label should correspond with the two busiest days of the week as opposed to the single busiest day. At the same time, they’d also like to know the two slowest days. Create a new column for this using a suitable method."
   ]
  },
  {
   "cell_type": "code",
   "execution_count": 18,
   "id": "7208a0b8",
   "metadata": {},
   "outputs": [],
   "source": [
    "#creating a list to categorise busyness\n",
    "result2 = []\n",
    "\n",
    "for value in df_ords_prods_merge[\"orders_day_of_week\"]:\n",
    "  if value ==0 or value== 1:\n",
    "    result2.append(\"Busiest days\")\n",
    "  elif value  ==3 or value== 4:\n",
    "    result2.append(\"Least busy days\")\n",
    "  else:\n",
    "    result2.append(\"Regularly busy\")"
   ]
  },
  {
   "cell_type": "code",
   "execution_count": 19,
   "id": "cf10459e",
   "metadata": {},
   "outputs": [],
   "source": [
    "#creating a new column with the result2 list\n",
    "df_ords_prods_merge['busiest_days']= result2"
   ]
  },
  {
   "cell_type": "markdown",
   "id": "58dad4ba",
   "metadata": {},
   "source": [
    "## Step 3\n",
    "### Check the values of this new column for accuracy. Note any observations in markdown format."
   ]
  },
  {
   "cell_type": "code",
   "execution_count": 20,
   "id": "05298530",
   "metadata": {},
   "outputs": [
    {
     "data": {
      "text/plain": [
       "Least busy days    0.235284\n",
       "Busiest days       0.366131\n",
       "Regularly busy     0.398586\n",
       "Name: busiest_days, dtype: float64"
      ]
     },
     "execution_count": 20,
     "metadata": {},
     "output_type": "execute_result"
    }
   ],
   "source": [
    "#checking frequency on the new column regarding business - output is in percentage\n",
    "df_ords_prods_merge['busiest_days'].value_counts(dropna=False, normalize=True, ascending= True)"
   ]
  },
  {
   "cell_type": "code",
   "execution_count": 21,
   "id": "9fd19df9",
   "metadata": {},
   "outputs": [
    {
     "data": {
      "text/plain": [
       "Least busy        0.116767\n",
       "Busiest day       0.191458\n",
       "Regularly busy    0.691775\n",
       "Name: busiest_day, dtype: float64"
      ]
     },
     "execution_count": 21,
     "metadata": {},
     "output_type": "execute_result"
    }
   ],
   "source": [
    "#checking frequency on the \"old\"column regarding business - output is in percentage\n",
    "df_ords_prods_merge['busiest_day'].value_counts(dropna=False, normalize=True, ascending= True)"
   ]
  },
  {
   "cell_type": "markdown",
   "id": "72f045dc",
   "metadata": {},
   "source": [
    "<font color=blue>Not sure what exactly is meant by checking the accuracy. I compared how significant difference there is within the result in case we change how many days we consider as busy / regular / least busy. We can see that the weighting among the categories have changed significantly: regulary busy label is being not that outstanding anymore </font> "
   ]
  },
  {
   "cell_type": "markdown",
   "id": "ef19b809",
   "metadata": {},
   "source": [
    "## Step 4\n",
    "### When too many users make Instacart orders at the same time, the app freezes. The senior technical officer at Instacart wants you to identify the busiest hours of the day. Rather than by hour, they want periods of time labeled “Most orders,” “Average orders,” and “Fewest orders.” Create a new column containing these labels called “busiest_period_of_day.”"
   ]
  },
  {
   "cell_type": "code",
   "execution_count": 22,
   "id": "2a8b701f",
   "metadata": {},
   "outputs": [
    {
     "data": {
      "text/plain": [
       "Index(['order_id', 'user_id', 'order_number', 'orders_day_of_week',\n",
       "       'order_hour_of_day', 'days_since_prior_order', 'product_id',\n",
       "       'add_to_cart_order', 'reordered', 'product_name', 'aisle_id',\n",
       "       'department_id', 'prices', 'price_range_loc', 'busiest_day',\n",
       "       'busiest_days'],\n",
       "      dtype='object')"
      ]
     },
     "execution_count": 22,
     "metadata": {},
     "output_type": "execute_result"
    }
   ],
   "source": [
    "#checking what order hour column exactly called\n",
    "df_ords_prods_merge.columns"
   ]
  },
  {
   "cell_type": "code",
   "execution_count": 23,
   "id": "f1fd00e9",
   "metadata": {},
   "outputs": [
    {
     "data": {
      "text/plain": [
       "10    2761760\n",
       "11    2736140\n",
       "14    2689136\n",
       "15    2662144\n",
       "13    2660954\n",
       "12    2618532\n",
       "16    2535202\n",
       "9     2454203\n",
       "17    2087654\n",
       "8     1718118\n",
       "18    1636502\n",
       "19    1258305\n",
       "20     976156\n",
       "7      891054\n",
       "21     795637\n",
       "22     634225\n",
       "23     402316\n",
       "6      290493\n",
       "0      218769\n",
       "1      115700\n",
       "5       87961\n",
       "2       69375\n",
       "4       53242\n",
       "3       51281\n",
       "Name: order_hour_of_day, dtype: int64"
      ]
     },
     "execution_count": 23,
     "metadata": {},
     "output_type": "execute_result"
    }
   ],
   "source": [
    "#checking frequency for hours\n",
    "df_ords_prods_merge['order_hour_of_day'].value_counts(dropna=False)"
   ]
  },
  {
   "cell_type": "code",
   "execution_count": 24,
   "id": "ae652c5a",
   "metadata": {},
   "outputs": [],
   "source": [
    "#creating list for busiest hour categories\n",
    "result3 = []\n",
    "\n",
    "for value in df_ords_prods_merge[\"order_hour_of_day\"]:\n",
    "  if value in [10,11,14,15,13,12,16,9]:\n",
    "    result3.append(\"Most orders\")\n",
    "  elif value in [3,4,2,5,1,0,6,23]:\n",
    "    result3.append(\"Fewest orders\")\n",
    "  else:\n",
    "    result3.append(\"Average orders\")"
   ]
  },
  {
   "cell_type": "code",
   "execution_count": 25,
   "id": "1c8fc7d2",
   "metadata": {},
   "outputs": [],
   "source": [
    "#creating a new column with the result3 list\n",
    "df_ords_prods_merge['busiest_period_of_day']= result3"
   ]
  },
  {
   "cell_type": "markdown",
   "id": "b459bb43",
   "metadata": {},
   "source": [
    "## Step 5\n",
    "### Print the frequency for this new column."
   ]
  },
  {
   "cell_type": "code",
   "execution_count": 26,
   "id": "be9590fa",
   "metadata": {},
   "outputs": [
    {
     "data": {
      "text/plain": [
       "Most orders       21118071\n",
       "Average orders     9997651\n",
       "Fewest orders      1289137\n",
       "Name: busiest_period_of_day, dtype: int64"
      ]
     },
     "execution_count": 26,
     "metadata": {},
     "output_type": "execute_result"
    }
   ],
   "source": [
    "#printing frequency\n",
    "df_ords_prods_merge['busiest_period_of_day'].value_counts(dropna=False)"
   ]
  },
  {
   "cell_type": "markdown",
   "id": "427aee40",
   "metadata": {},
   "source": [
    "## Step 7\n",
    "### Export your dataframe as a pickle file (since you added new columns) and store it correctly in your “Prepared Data” folder."
   ]
  },
  {
   "cell_type": "code",
   "execution_count": 27,
   "id": "b2a67566",
   "metadata": {},
   "outputs": [
    {
     "data": {
      "text/plain": [
       "Index(['order_id', 'user_id', 'order_number', 'orders_day_of_week',\n",
       "       'order_hour_of_day', 'days_since_prior_order', 'product_id',\n",
       "       'add_to_cart_order', 'reordered', 'product_name', 'aisle_id',\n",
       "       'department_id', 'prices', 'price_range_loc', 'busiest_day',\n",
       "       'busiest_days', 'busiest_period_of_day'],\n",
       "      dtype='object')"
      ]
     },
     "execution_count": 27,
     "metadata": {},
     "output_type": "execute_result"
    }
   ],
   "source": [
    "#checking all columns in the altered df\n",
    "df_ords_prods_merge.columns"
   ]
  },
  {
   "cell_type": "code",
   "execution_count": 28,
   "id": "84d6656f",
   "metadata": {},
   "outputs": [
    {
     "data": {
      "text/plain": [
       "(32404859, 17)"
      ]
     },
     "execution_count": 28,
     "metadata": {},
     "output_type": "execute_result"
    }
   ],
   "source": [
    "df_ords_prods_merge.shape"
   ]
  },
  {
   "cell_type": "code",
   "execution_count": 29,
   "id": "cf976c17",
   "metadata": {},
   "outputs": [],
   "source": [
    "#exporting final df with new columns in pickle format\n",
    "df_ords_prods_merge.to_pickle(os.path.join(path, '02 Data','Prepared Data', 'orders_products_merged_with_new_columns.pkl'))"
   ]
  }
 ],
 "metadata": {
  "kernelspec": {
   "display_name": "Python 3 (ipykernel)",
   "language": "python",
   "name": "python3"
  },
  "language_info": {
   "codemirror_mode": {
    "name": "ipython",
    "version": 3
   },
   "file_extension": ".py",
   "mimetype": "text/x-python",
   "name": "python",
   "nbconvert_exporter": "python",
   "pygments_lexer": "ipython3",
   "version": "3.9.7"
  }
 },
 "nbformat": 4,
 "nbformat_minor": 5
}
