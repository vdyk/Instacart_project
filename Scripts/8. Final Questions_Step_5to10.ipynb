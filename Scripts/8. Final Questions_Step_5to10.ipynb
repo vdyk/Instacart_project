{
 "cells": [
  {
   "cell_type": "markdown",
   "id": "66550ab4",
   "metadata": {},
   "source": [
    "# 00. Table of contents\n",
    "\n",
    " - Importing libraries\n",
    " - Importing Dataset\n",
    " - Creating customer profiles to analyse buying habits\n",
    " - Creating visualisations to demonstrate findings and profile distribution\n",
    " -Preparing additonal visualisations for answering the questions in the project"
   ]
  },
  {
   "cell_type": "markdown",
   "id": "63ebffe6",
   "metadata": {},
   "source": [
    "### Importing libraries"
   ]
  },
  {
   "cell_type": "code",
   "execution_count": 1,
   "id": "39145c3c",
   "metadata": {},
   "outputs": [],
   "source": [
    "import pandas as pd\n",
    "import numpy as np\n",
    "import os\n",
    "import matplotlib.pyplot as plt\n",
    "import seaborn as sns\n",
    "import scipy"
   ]
  },
  {
   "cell_type": "markdown",
   "id": "2b670378",
   "metadata": {},
   "source": [
    "### Importing dataset"
   ]
  },
  {
   "cell_type": "code",
   "execution_count": 2,
   "id": "c3bb0113",
   "metadata": {},
   "outputs": [],
   "source": [
    "path = r'C:\\Users\\viki\\Documents\\Data Analytics\\Immersion\\Achievement 4\\Instacart Basket Analysis'"
   ]
  },
  {
   "cell_type": "code",
   "execution_count": 3,
   "id": "45a69ad4",
   "metadata": {},
   "outputs": [],
   "source": [
    "ords_prods_cust_merged_high_activity= pd.read_pickle(os.path.join(path, '02 Data', 'Prepared Data', 'ords_prods_cust_merged_high_activity.pkl'))"
   ]
  },
  {
   "cell_type": "markdown",
   "id": "0df8f163",
   "metadata": {},
   "source": [
    "# <ins>STEP 5</ins>"
   ]
  },
  {
   "cell_type": "markdown",
   "id": "fab23202",
   "metadata": {},
   "source": [
    "### The marketing and business strategy units at Instacart want to create more-relevant marketing strategies for different products and are, thus, curious about customer profiling in their database. Create a profiling variable based on age, income, certain goods in the “department_id” column, and number of dependents. You might also use the “orders_day_of_the_week” and “order_hour_of_day” columns if you can think of a way they would impact customer profiles. (Hint: As an example, try thinking of what characteristics would lead you to the profile “Single adult” or “Young parent.”)"
   ]
  },
  {
   "cell_type": "code",
   "execution_count": 6,
   "id": "c166adab",
   "metadata": {},
   "outputs": [
    {
     "data": {
      "text/plain": [
       "Index(['order_id', 'user_id', 'order_number', 'orders_day_of_week',\n",
       "       'order_hour_of_day', 'days_since_prior_order', 'product_id',\n",
       "       'add_to_cart_order', 'reordered', 'product_name', 'aisle_id',\n",
       "       'department_id', 'prices', 'price_range_loc', 'busiest_day',\n",
       "       'busiest_days', 'busiest_period_of_day', 'max_order', 'loyalty_flag',\n",
       "       'avg_price_of_products_purchased', 'spending_flag',\n",
       "       'median_days_since_prior_order', 'frequency_flag', 'Gender', 'State',\n",
       "       'Age', 'date_joined', 'n_dependants', 'fam_status', 'Income',\n",
       "       'region_flag', 'activity'],\n",
       "      dtype='object')"
      ]
     },
     "execution_count": 6,
     "metadata": {},
     "output_type": "execute_result"
    }
   ],
   "source": [
    "ords_prods_cust_merged_high_activity.columns"
   ]
  },
  {
   "cell_type": "code",
   "execution_count": 7,
   "id": "c4d96862",
   "metadata": {},
   "outputs": [],
   "source": [
    "#creating df with relevant columns only\n",
    "df_profiling=ords_prods_cust_merged_high_activity[['Age','n_dependants', 'Income', 'department_id']]"
   ]
  },
  {
   "cell_type": "code",
   "execution_count": 8,
   "id": "1aebaefc",
   "metadata": {},
   "outputs": [
    {
     "data": {
      "text/html": [
       "<div>\n",
       "<style scoped>\n",
       "    .dataframe tbody tr th:only-of-type {\n",
       "        vertical-align: middle;\n",
       "    }\n",
       "\n",
       "    .dataframe tbody tr th {\n",
       "        vertical-align: top;\n",
       "    }\n",
       "\n",
       "    .dataframe thead th {\n",
       "        text-align: right;\n",
       "    }\n",
       "</style>\n",
       "<table border=\"1\" class=\"dataframe\">\n",
       "  <thead>\n",
       "    <tr style=\"text-align: right;\">\n",
       "      <th></th>\n",
       "      <th>Age</th>\n",
       "      <th>n_dependants</th>\n",
       "      <th>Income</th>\n",
       "      <th>department_id</th>\n",
       "    </tr>\n",
       "  </thead>\n",
       "  <tbody>\n",
       "    <tr>\n",
       "      <th>count</th>\n",
       "      <td>30964564.00</td>\n",
       "      <td>30964564.00</td>\n",
       "      <td>30964564.00</td>\n",
       "      <td>30964564.00</td>\n",
       "    </tr>\n",
       "    <tr>\n",
       "      <th>mean</th>\n",
       "      <td>49.47</td>\n",
       "      <td>1.50</td>\n",
       "      <td>99675.87</td>\n",
       "      <td>9.92</td>\n",
       "    </tr>\n",
       "    <tr>\n",
       "      <th>std</th>\n",
       "      <td>18.49</td>\n",
       "      <td>1.12</td>\n",
       "      <td>43141.87</td>\n",
       "      <td>6.28</td>\n",
       "    </tr>\n",
       "    <tr>\n",
       "      <th>min</th>\n",
       "      <td>18.00</td>\n",
       "      <td>0.00</td>\n",
       "      <td>25903.00</td>\n",
       "      <td>1.00</td>\n",
       "    </tr>\n",
       "    <tr>\n",
       "      <th>25%</th>\n",
       "      <td>33.00</td>\n",
       "      <td>1.00</td>\n",
       "      <td>67292.00</td>\n",
       "      <td>4.00</td>\n",
       "    </tr>\n",
       "    <tr>\n",
       "      <th>50%</th>\n",
       "      <td>49.00</td>\n",
       "      <td>2.00</td>\n",
       "      <td>96765.00</td>\n",
       "      <td>9.00</td>\n",
       "    </tr>\n",
       "    <tr>\n",
       "      <th>75%</th>\n",
       "      <td>65.00</td>\n",
       "      <td>3.00</td>\n",
       "      <td>128102.00</td>\n",
       "      <td>16.00</td>\n",
       "    </tr>\n",
       "    <tr>\n",
       "      <th>max</th>\n",
       "      <td>81.00</td>\n",
       "      <td>3.00</td>\n",
       "      <td>593901.00</td>\n",
       "      <td>21.00</td>\n",
       "    </tr>\n",
       "  </tbody>\n",
       "</table>\n",
       "</div>"
      ],
      "text/plain": [
       "               Age  n_dependants       Income  department_id\n",
       "count  30964564.00   30964564.00  30964564.00    30964564.00\n",
       "mean         49.47          1.50     99675.87           9.92\n",
       "std          18.49          1.12     43141.87           6.28\n",
       "min          18.00          0.00     25903.00           1.00\n",
       "25%          33.00          1.00     67292.00           4.00\n",
       "50%          49.00          2.00     96765.00           9.00\n",
       "75%          65.00          3.00    128102.00          16.00\n",
       "max          81.00          3.00    593901.00          21.00"
      ]
     },
     "execution_count": 8,
     "metadata": {},
     "output_type": "execute_result"
    }
   ],
   "source": [
    "df_profiling.describe().round(2)"
   ]
  },
  {
   "cell_type": "code",
   "execution_count": 5,
   "id": "e4fb1ac9",
   "metadata": {},
   "outputs": [],
   "source": [
    "#creating age categories in new column\n",
    "ords_prods_cust_merged_high_activity.loc[ords_prods_cust_merged_high_activity['Age']<=24, 'Age_Group']= 'Youth(under 24 yrs)'\n",
    "ords_prods_cust_merged_high_activity.loc[(ords_prods_cust_merged_high_activity['Age'] > 24) & (ords_prods_cust_merged_high_activity['Age'] <= 65), 'Age_Group']= 'Adult (24-65 yrs)'\n",
    "ords_prods_cust_merged_high_activity.loc[ords_prods_cust_merged_high_activity['Age']>65, 'Age_Group']= 'Senior (65+ yrs)'"
   ]
  },
  {
   "cell_type": "code",
   "execution_count": 10,
   "id": "176d7eb0",
   "metadata": {},
   "outputs": [
    {
     "data": {
      "text/plain": [
       "Adult (24-65 yrs)      19818536\n",
       "Senior (65+ yrs)        7730834\n",
       "Youth(under 24 yrs)     3415194\n",
       "Name: Age_Group, dtype: int64"
      ]
     },
     "execution_count": 10,
     "metadata": {},
     "output_type": "execute_result"
    }
   ],
   "source": [
    "#cheking frequency of age groups\n",
    "ords_prods_cust_merged_high_activity['Age_Group']. value_counts(dropna=False)"
   ]
  },
  {
   "cell_type": "code",
   "execution_count": 11,
   "id": "a83207e3",
   "metadata": {},
   "outputs": [
    {
     "data": {
      "text/plain": [
       "Text(0.5, 1.0, 'Age Group Distribution of customers')"
      ]
     },
     "execution_count": 11,
     "metadata": {},
     "output_type": "execute_result"
    },
    {
     "data": {
      "image/png": "[encoded data removed]",
      "text/plain": [
       "<Figure size 432x288 with 1 Axes>"
      ]
     },
     "metadata": {},
     "output_type": "display_data"
    }
   ],
   "source": [
    "# creating pie chart for age groups\n",
    "ords_prods_cust_merged_high_activity['Age_Group'].value_counts().plot.pie(autopct = '%1.0f%%')\n",
    "plt.ylabel(None)\n",
    "plt.title('Age Group Distribution of customers')"
   ]
  },
  {
   "cell_type": "code",
   "execution_count": 12,
   "id": "bdec2b47",
   "metadata": {},
   "outputs": [],
   "source": [
    "# creating categories based on no. of children in new column\n",
    "ords_prods_cust_merged_high_activity.loc[ords_prods_cust_merged_high_activity['n_dependants']==0, 'Children']= 'Childless'\n",
    "ords_prods_cust_merged_high_activity.loc[ords_prods_cust_merged_high_activity['n_dependants']>0, 'Children']= 'With Child'"
   ]
  },
  {
   "cell_type": "code",
   "execution_count": 13,
   "id": "be86e657",
   "metadata": {},
   "outputs": [
    {
     "data": {
      "text/plain": [
       "With Child    23224883\n",
       "Childless      7739681\n",
       "Name: Children, dtype: int64"
      ]
     },
     "execution_count": 13,
     "metadata": {},
     "output_type": "execute_result"
    }
   ],
   "source": [
    "#cheking frequency of Children column\n",
    "ords_prods_cust_merged_high_activity['Children'].value_counts(dropna=False)"
   ]
  },
  {
   "cell_type": "code",
   "execution_count": 14,
   "id": "a560100f",
   "metadata": {},
   "outputs": [
    {
     "data": {
      "text/plain": [
       "Text(0, 0.5, '')"
      ]
     },
     "execution_count": 14,
     "metadata": {},
     "output_type": "execute_result"
    },
    {
     "data": {
      "image/png": "[encoded data removed]",
      "text/plain": [
       "<Figure size 432x288 with 1 Axes>"
      ]
     },
     "metadata": {},
     "output_type": "display_data"
    }
   ],
   "source": [
    "#creating pie chart for children column\n",
    "ords_prods_cust_merged_high_activity['Children'].value_counts(dropna=False).plot.pie(autopct = '%1.0f%%')\n",
    "plt.title('Customer status in regards children')\n",
    "plt.ylabel(None)"
   ]
  },
  {
   "cell_type": "code",
   "execution_count": 15,
   "id": "eb73470a",
   "metadata": {},
   "outputs": [],
   "source": [
    "# creating income categories in new column\n",
    "ords_prods_cust_merged_high_activity.loc[ords_prods_cust_merged_high_activity['Income']<=50000, 'Income_flag']= 'Low income customer(under $50k)'\n",
    "ords_prods_cust_merged_high_activity.loc[(ords_prods_cust_merged_high_activity['Income'] > 50000) & (ords_prods_cust_merged_high_activity['Income'] <= 150000), 'Income_flag']= 'Mid income customer($50k-150k)'\n",
    "ords_prods_cust_merged_high_activity.loc[ords_prods_cust_merged_high_activity['Income']>150000, 'Income_flag']= 'High income customer($150k+)'"
   ]
  },
  {
   "cell_type": "code",
   "execution_count": 16,
   "id": "ad16da68",
   "metadata": {},
   "outputs": [
    {
     "data": {
      "text/plain": [
       "Mid income customer($50k-150k)     23707476\n",
       "High income customer($150k+)        3894534\n",
       "Low income customer(under $50k)     3362554\n",
       "Name: Income_flag, dtype: int64"
      ]
     },
     "execution_count": 16,
     "metadata": {},
     "output_type": "execute_result"
    }
   ],
   "source": [
    "#cheking frequency of income column\n",
    "ords_prods_cust_merged_high_activity['Income_flag'].value_counts(dropna=False)"
   ]
  },
  {
   "cell_type": "code",
   "execution_count": 17,
   "id": "2bc390d9",
   "metadata": {},
   "outputs": [
    {
     "data": {
      "text/plain": [
       "Text(0, 0.5, '')"
      ]
     },
     "execution_count": 17,
     "metadata": {},
     "output_type": "execute_result"
    },
    {
     "data": {
      "image/png": "[encoded data removed]",
      "text/plain": [
       "<Figure size 432x288 with 1 Axes>"
      ]
     },
     "metadata": {},
     "output_type": "display_data"
    }
   ],
   "source": [
    "#creating pie chart for income flag\n",
    "ords_prods_cust_merged_high_activity['Income_flag'].value_counts(dropna=False).plot.pie(autopct = '%1.0f%%')\n",
    "plt.title('Income distribution of customers')\n",
    "plt.ylabel(None)"
   ]
  },
  {
   "cell_type": "code",
   "execution_count": 18,
   "id": "27ed6e93",
   "metadata": {},
   "outputs": [],
   "source": [
    "#creating customer profiles in new column\n",
    "ords_prods_cust_merged_high_activity.loc[(ords_prods_cust_merged_high_activity['Age_Group'] == 'Youth(under 24 yrs)') & (ords_prods_cust_merged_high_activity['Children'] == 'With Child'), 'Customer_profile']= 'Youth with Child'\n",
    "ords_prods_cust_merged_high_activity.loc[(ords_prods_cust_merged_high_activity['Age_Group'] == 'Youth(under 24 yrs)') & (ords_prods_cust_merged_high_activity['Children'] == 'Childless'), 'Customer_profile']= 'Childless Youth'\n",
    "ords_prods_cust_merged_high_activity.loc[(ords_prods_cust_merged_high_activity['Age_Group'] == 'Adult (24-65 yrs)') & (ords_prods_cust_merged_high_activity['Children'] == 'With Child'), 'Customer_profile']= 'Adult with Child'\n",
    "ords_prods_cust_merged_high_activity.loc[(ords_prods_cust_merged_high_activity['Age_Group'] == 'Adult (24-65 yrs)') & (ords_prods_cust_merged_high_activity['Children'] == 'Childless'), 'Customer_profile']= 'Childless Adult'\n",
    "ords_prods_cust_merged_high_activity.loc[(ords_prods_cust_merged_high_activity['Age_Group'] == 'Senior (65+ yrs)') & (ords_prods_cust_merged_high_activity['Children'] == 'With Child'), 'Customer_profile']= 'Senior with Child'\n",
    "ords_prods_cust_merged_high_activity.loc[(ords_prods_cust_merged_high_activity['Age_Group'] == 'Senior (65+ yrs)') & (ords_prods_cust_merged_high_activity['Children'] == 'Childless'), 'Customer_profile']= 'Childless Senior'"
   ]
  },
  {
   "cell_type": "code",
   "execution_count": 19,
   "id": "32978732",
   "metadata": {},
   "outputs": [
    {
     "data": {
      "text/plain": [
       "Adult with Child     14810086\n",
       "Senior with Child     5825113\n",
       "Childless Adult       5008450\n",
       "Youth with Child      2589684\n",
       "Childless Senior      1905721\n",
       "Childless Youth        825510\n",
       "Name: Customer_profile, dtype: int64"
      ]
     },
     "execution_count": 19,
     "metadata": {},
     "output_type": "execute_result"
    }
   ],
   "source": [
    "#cheking frequency of customer profile\n",
    "ords_prods_cust_merged_high_activity['Customer_profile'].value_counts(dropna=False).sort_values(ascending=False)"
   ]
  },
  {
   "cell_type": "markdown",
   "id": "c62d1d03",
   "metadata": {},
   "source": [
    "# <ins>STEP 6</ins>"
   ]
  },
  {
   "cell_type": "markdown",
   "id": "2cf4087c",
   "metadata": {},
   "source": [
    "### Create an appropriate visualization to show the distribution of profiles."
   ]
  },
  {
   "cell_type": "code",
   "execution_count": 20,
   "id": "4c885f70",
   "metadata": {},
   "outputs": [
    {
     "data": {
      "text/plain": [
       "Text(0, 0.5, 'Number of orders')"
      ]
     },
     "execution_count": 20,
     "metadata": {},
     "output_type": "execute_result"
    },
    {
     "data": {
      "image/png": "[encoded data removed]",
      "text/plain": [
       "<Figure size 432x288 with 1 Axes>"
      ]
     },
     "metadata": {
      "needs_background": "light"
     },
     "output_type": "display_data"
    }
   ],
   "source": [
    "#creating bar chart of customer profiles\n",
    "q10_bar_profile_distribution = ords_prods_cust_merged_high_activity['Customer_profile'].value_counts(dropna=False).sort_values(ascending=False).plot.bar()\n",
    "plt.title('Customer profile distribution')\n",
    "plt.xlabel(\"Customer profile\", fontsize=9)\n",
    "plt.ylabel(\"Number of orders\",fontsize=9)"
   ]
  },
  {
   "cell_type": "code",
   "execution_count": 21,
   "id": "c8b4960e",
   "metadata": {},
   "outputs": [],
   "source": [
    "#exporting bar chart\n",
    "q10_bar_profile_distribution.figure.savefig(os.path.join(path, '04 Analysis', 'Visualizations', 'q10_bar_profile_distribution.png'))"
   ]
  },
  {
   "cell_type": "markdown",
   "id": "54fa2f14",
   "metadata": {},
   "source": [
    "# <ins>STEP 7</ins>"
   ]
  },
  {
   "cell_type": "markdown",
   "id": "f8069cc9",
   "metadata": {},
   "source": [
    "### Aggregate the max, mean, and min variables on a customer-profile level for usage frequency and expenditure."
   ]
  },
  {
   "cell_type": "code",
   "execution_count": 22,
   "id": "23738d8a",
   "metadata": {},
   "outputs": [
    {
     "data": {
      "text/html": [
       "<div>\n",
       "<style scoped>\n",
       "    .dataframe tbody tr th:only-of-type {\n",
       "        vertical-align: middle;\n",
       "    }\n",
       "\n",
       "    .dataframe tbody tr th {\n",
       "        vertical-align: top;\n",
       "    }\n",
       "\n",
       "    .dataframe thead tr th {\n",
       "        text-align: left;\n",
       "    }\n",
       "\n",
       "    .dataframe thead tr:last-of-type th {\n",
       "        text-align: right;\n",
       "    }\n",
       "</style>\n",
       "<table border=\"1\" class=\"dataframe\">\n",
       "  <thead>\n",
       "    <tr>\n",
       "      <th></th>\n",
       "      <th colspan=\"3\" halign=\"left\">order_number</th>\n",
       "    </tr>\n",
       "    <tr>\n",
       "      <th></th>\n",
       "      <th>mean</th>\n",
       "      <th>min</th>\n",
       "      <th>max</th>\n",
       "    </tr>\n",
       "    <tr>\n",
       "      <th>Customer_profile</th>\n",
       "      <th></th>\n",
       "      <th></th>\n",
       "      <th></th>\n",
       "    </tr>\n",
       "  </thead>\n",
       "  <tbody>\n",
       "    <tr>\n",
       "      <th>Adult with Child</th>\n",
       "      <td>17.754515</td>\n",
       "      <td>1</td>\n",
       "      <td>99</td>\n",
       "    </tr>\n",
       "    <tr>\n",
       "      <th>Childless Adult</th>\n",
       "      <td>18.039601</td>\n",
       "      <td>1</td>\n",
       "      <td>99</td>\n",
       "    </tr>\n",
       "    <tr>\n",
       "      <th>Childless Senior</th>\n",
       "      <td>17.823513</td>\n",
       "      <td>1</td>\n",
       "      <td>99</td>\n",
       "    </tr>\n",
       "    <tr>\n",
       "      <th>Childless Youth</th>\n",
       "      <td>17.772659</td>\n",
       "      <td>1</td>\n",
       "      <td>99</td>\n",
       "    </tr>\n",
       "    <tr>\n",
       "      <th>Senior with Child</th>\n",
       "      <td>17.779937</td>\n",
       "      <td>1</td>\n",
       "      <td>99</td>\n",
       "    </tr>\n",
       "    <tr>\n",
       "      <th>Youth with Child</th>\n",
       "      <td>18.041498</td>\n",
       "      <td>1</td>\n",
       "      <td>99</td>\n",
       "    </tr>\n",
       "  </tbody>\n",
       "</table>\n",
       "</div>"
      ],
      "text/plain": [
       "                  order_number        \n",
       "                          mean min max\n",
       "Customer_profile                      \n",
       "Adult with Child     17.754515   1  99\n",
       "Childless Adult      18.039601   1  99\n",
       "Childless Senior     17.823513   1  99\n",
       "Childless Youth      17.772659   1  99\n",
       "Senior with Child    17.779937   1  99\n",
       "Youth with Child     18.041498   1  99"
      ]
     },
     "execution_count": 22,
     "metadata": {},
     "output_type": "execute_result"
    }
   ],
   "source": [
    "# Usage frequency across profiles\n",
    "ords_prods_cust_merged_high_activity.groupby('Customer_profile').agg({'order_number': ['mean', 'min', 'max']})"
   ]
  },
  {
   "cell_type": "code",
   "execution_count": 23,
   "id": "6ff0a4f1",
   "metadata": {},
   "outputs": [
    {
     "data": {
      "text/html": [
       "<div>\n",
       "<style scoped>\n",
       "    .dataframe tbody tr th:only-of-type {\n",
       "        vertical-align: middle;\n",
       "    }\n",
       "\n",
       "    .dataframe tbody tr th {\n",
       "        vertical-align: top;\n",
       "    }\n",
       "\n",
       "    .dataframe thead tr th {\n",
       "        text-align: left;\n",
       "    }\n",
       "\n",
       "    .dataframe thead tr:last-of-type th {\n",
       "        text-align: right;\n",
       "    }\n",
       "</style>\n",
       "<table border=\"1\" class=\"dataframe\">\n",
       "  <thead>\n",
       "    <tr>\n",
       "      <th></th>\n",
       "      <th colspan=\"3\" halign=\"left\">prices</th>\n",
       "    </tr>\n",
       "    <tr>\n",
       "      <th></th>\n",
       "      <th>mean</th>\n",
       "      <th>min</th>\n",
       "      <th>max</th>\n",
       "    </tr>\n",
       "    <tr>\n",
       "      <th>Customer_profile</th>\n",
       "      <th></th>\n",
       "      <th></th>\n",
       "      <th></th>\n",
       "    </tr>\n",
       "  </thead>\n",
       "  <tbody>\n",
       "    <tr>\n",
       "      <th>Adult with Child</th>\n",
       "      <td>7.789761</td>\n",
       "      <td>1.0</td>\n",
       "      <td>25.0</td>\n",
       "    </tr>\n",
       "    <tr>\n",
       "      <th>Childless Adult</th>\n",
       "      <td>7.787189</td>\n",
       "      <td>1.0</td>\n",
       "      <td>25.0</td>\n",
       "    </tr>\n",
       "    <tr>\n",
       "      <th>Childless Senior</th>\n",
       "      <td>7.802276</td>\n",
       "      <td>1.0</td>\n",
       "      <td>25.0</td>\n",
       "    </tr>\n",
       "    <tr>\n",
       "      <th>Childless Youth</th>\n",
       "      <td>7.774491</td>\n",
       "      <td>1.0</td>\n",
       "      <td>25.0</td>\n",
       "    </tr>\n",
       "    <tr>\n",
       "      <th>Senior with Child</th>\n",
       "      <td>7.791746</td>\n",
       "      <td>1.0</td>\n",
       "      <td>25.0</td>\n",
       "    </tr>\n",
       "    <tr>\n",
       "      <th>Youth with Child</th>\n",
       "      <td>7.795841</td>\n",
       "      <td>1.0</td>\n",
       "      <td>25.0</td>\n",
       "    </tr>\n",
       "  </tbody>\n",
       "</table>\n",
       "</div>"
      ],
      "text/plain": [
       "                     prices           \n",
       "                       mean  min   max\n",
       "Customer_profile                      \n",
       "Adult with Child   7.789761  1.0  25.0\n",
       "Childless Adult    7.787189  1.0  25.0\n",
       "Childless Senior   7.802276  1.0  25.0\n",
       "Childless Youth    7.774491  1.0  25.0\n",
       "Senior with Child  7.791746  1.0  25.0\n",
       "Youth with Child   7.795841  1.0  25.0"
      ]
     },
     "execution_count": 23,
     "metadata": {},
     "output_type": "execute_result"
    }
   ],
   "source": [
    "# Expenditure across profiles\n",
    "ords_prods_cust_merged_high_activity.groupby('Customer_profile').agg({'prices': ['mean', 'min', 'max']})"
   ]
  },
  {
   "cell_type": "markdown",
   "id": "718ec801",
   "metadata": {},
   "source": [
    "# <ins>STEP 8</ins>"
   ]
  },
  {
   "cell_type": "markdown",
   "id": "ccc78440",
   "metadata": {},
   "source": [
    "### Compare your customer profiles with regions and departments. Can you identify a link between them? Customers may demonstrate different behaviors across regions, which could make this information important."
   ]
  },
  {
   "cell_type": "code",
   "execution_count": 24,
   "id": "49a9918a",
   "metadata": {},
   "outputs": [
    {
     "data": {
      "text/html": [
       "<div>\n",
       "<style scoped>\n",
       "    .dataframe tbody tr th:only-of-type {\n",
       "        vertical-align: middle;\n",
       "    }\n",
       "\n",
       "    .dataframe tbody tr th {\n",
       "        vertical-align: top;\n",
       "    }\n",
       "\n",
       "    .dataframe thead th {\n",
       "        text-align: right;\n",
       "    }\n",
       "</style>\n",
       "<table border=\"1\" class=\"dataframe\">\n",
       "  <thead>\n",
       "    <tr style=\"text-align: right;\">\n",
       "      <th></th>\n",
       "      <th>department_id</th>\n",
       "    </tr>\n",
       "    <tr>\n",
       "      <th>Customer_profile</th>\n",
       "      <th></th>\n",
       "    </tr>\n",
       "  </thead>\n",
       "  <tbody>\n",
       "    <tr>\n",
       "      <th>Adult with Child</th>\n",
       "      <td>4</td>\n",
       "    </tr>\n",
       "    <tr>\n",
       "      <th>Childless Adult</th>\n",
       "      <td>4</td>\n",
       "    </tr>\n",
       "    <tr>\n",
       "      <th>Childless Senior</th>\n",
       "      <td>4</td>\n",
       "    </tr>\n",
       "    <tr>\n",
       "      <th>Childless Youth</th>\n",
       "      <td>4</td>\n",
       "    </tr>\n",
       "    <tr>\n",
       "      <th>Senior with Child</th>\n",
       "      <td>4</td>\n",
       "    </tr>\n",
       "    <tr>\n",
       "      <th>Youth with Child</th>\n",
       "      <td>4</td>\n",
       "    </tr>\n",
       "  </tbody>\n",
       "</table>\n",
       "</div>"
      ],
      "text/plain": [
       "                   department_id\n",
       "Customer_profile                \n",
       "Adult with Child               4\n",
       "Childless Adult                4\n",
       "Childless Senior               4\n",
       "Childless Youth                4\n",
       "Senior with Child              4\n",
       "Youth with Child               4"
      ]
     },
     "execution_count": 24,
     "metadata": {},
     "output_type": "execute_result"
    }
   ],
   "source": [
    "# most frequent departments across customer profiles\n",
    "ords_prods_cust_merged_high_activity.groupby('Customer_profile').agg({'department_id': pd.Series.mode})"
   ]
  },
  {
   "cell_type": "code",
   "execution_count": 25,
   "id": "30b45cbc",
   "metadata": {},
   "outputs": [],
   "source": [
    "# customer profiles across departments\n",
    "crosstab_profile_departments= pd.crosstab(ords_prods_cust_merged_high_activity['Customer_profile'],ords_prods_cust_merged_high_activity['department_id'],dropna=False)"
   ]
  },
  {
   "cell_type": "code",
   "execution_count": 26,
   "id": "c3a72d7e",
   "metadata": {},
   "outputs": [
    {
     "data": {
      "text/html": [
       "<div>\n",
       "<style scoped>\n",
       "    .dataframe tbody tr th:only-of-type {\n",
       "        vertical-align: middle;\n",
       "    }\n",
       "\n",
       "    .dataframe tbody tr th {\n",
       "        vertical-align: top;\n",
       "    }\n",
       "\n",
       "    .dataframe thead th {\n",
       "        text-align: right;\n",
       "    }\n",
       "</style>\n",
       "<table border=\"1\" class=\"dataframe\">\n",
       "  <thead>\n",
       "    <tr style=\"text-align: right;\">\n",
       "      <th>department_id</th>\n",
       "      <th>1</th>\n",
       "      <th>2</th>\n",
       "      <th>3</th>\n",
       "      <th>4</th>\n",
       "      <th>5</th>\n",
       "      <th>6</th>\n",
       "      <th>7</th>\n",
       "      <th>8</th>\n",
       "      <th>9</th>\n",
       "      <th>10</th>\n",
       "      <th>...</th>\n",
       "      <th>12</th>\n",
       "      <th>13</th>\n",
       "      <th>14</th>\n",
       "      <th>15</th>\n",
       "      <th>16</th>\n",
       "      <th>17</th>\n",
       "      <th>18</th>\n",
       "      <th>19</th>\n",
       "      <th>20</th>\n",
       "      <th>21</th>\n",
       "    </tr>\n",
       "    <tr>\n",
       "      <th>Customer_profile</th>\n",
       "      <th></th>\n",
       "      <th></th>\n",
       "      <th></th>\n",
       "      <th></th>\n",
       "      <th></th>\n",
       "      <th></th>\n",
       "      <th></th>\n",
       "      <th></th>\n",
       "      <th></th>\n",
       "      <th></th>\n",
       "      <th></th>\n",
       "      <th></th>\n",
       "      <th></th>\n",
       "      <th></th>\n",
       "      <th></th>\n",
       "      <th></th>\n",
       "      <th></th>\n",
       "      <th></th>\n",
       "      <th></th>\n",
       "      <th></th>\n",
       "      <th></th>\n",
       "    </tr>\n",
       "  </thead>\n",
       "  <tbody>\n",
       "    <tr>\n",
       "      <th>Adult with Child</th>\n",
       "      <td>1013626</td>\n",
       "      <td>16385</td>\n",
       "      <td>535560</td>\n",
       "      <td>4342995</td>\n",
       "      <td>68210</td>\n",
       "      <td>122460</td>\n",
       "      <td>1228480</td>\n",
       "      <td>43335</td>\n",
       "      <td>393194</td>\n",
       "      <td>16166</td>\n",
       "      <td>...</td>\n",
       "      <td>322425</td>\n",
       "      <td>853451</td>\n",
       "      <td>320376</td>\n",
       "      <td>484805</td>\n",
       "      <td>2475592</td>\n",
       "      <td>335442</td>\n",
       "      <td>196523</td>\n",
       "      <td>1326991</td>\n",
       "      <td>478249</td>\n",
       "      <td>30973</td>\n",
       "    </tr>\n",
       "    <tr>\n",
       "      <th>Childless Adult</th>\n",
       "      <td>341487</td>\n",
       "      <td>5753</td>\n",
       "      <td>183228</td>\n",
       "      <td>1467865</td>\n",
       "      <td>24249</td>\n",
       "      <td>41694</td>\n",
       "      <td>417751</td>\n",
       "      <td>14670</td>\n",
       "      <td>131734</td>\n",
       "      <td>5182</td>\n",
       "      <td>...</td>\n",
       "      <td>106346</td>\n",
       "      <td>287379</td>\n",
       "      <td>109535</td>\n",
       "      <td>163735</td>\n",
       "      <td>837399</td>\n",
       "      <td>110969</td>\n",
       "      <td>67882</td>\n",
       "      <td>447738</td>\n",
       "      <td>165150</td>\n",
       "      <td>10451</td>\n",
       "    </tr>\n",
       "    <tr>\n",
       "      <th>Childless Senior</th>\n",
       "      <td>133131</td>\n",
       "      <td>1999</td>\n",
       "      <td>68129</td>\n",
       "      <td>562279</td>\n",
       "      <td>8648</td>\n",
       "      <td>15581</td>\n",
       "      <td>158701</td>\n",
       "      <td>6382</td>\n",
       "      <td>50425</td>\n",
       "      <td>1943</td>\n",
       "      <td>...</td>\n",
       "      <td>41704</td>\n",
       "      <td>109133</td>\n",
       "      <td>39431</td>\n",
       "      <td>60654</td>\n",
       "      <td>318917</td>\n",
       "      <td>42382</td>\n",
       "      <td>24223</td>\n",
       "      <td>170004</td>\n",
       "      <td>61827</td>\n",
       "      <td>3721</td>\n",
       "    </tr>\n",
       "    <tr>\n",
       "      <th>Childless Youth</th>\n",
       "      <td>54730</td>\n",
       "      <td>962</td>\n",
       "      <td>30038</td>\n",
       "      <td>245297</td>\n",
       "      <td>3930</td>\n",
       "      <td>7186</td>\n",
       "      <td>68889</td>\n",
       "      <td>2550</td>\n",
       "      <td>22137</td>\n",
       "      <td>875</td>\n",
       "      <td>...</td>\n",
       "      <td>17828</td>\n",
       "      <td>47392</td>\n",
       "      <td>17466</td>\n",
       "      <td>26631</td>\n",
       "      <td>138060</td>\n",
       "      <td>18007</td>\n",
       "      <td>11223</td>\n",
       "      <td>72696</td>\n",
       "      <td>26405</td>\n",
       "      <td>1763</td>\n",
       "    </tr>\n",
       "    <tr>\n",
       "      <th>Senior with Child</th>\n",
       "      <td>399399</td>\n",
       "      <td>6351</td>\n",
       "      <td>210329</td>\n",
       "      <td>1706806</td>\n",
       "      <td>26043</td>\n",
       "      <td>47646</td>\n",
       "      <td>487713</td>\n",
       "      <td>17369</td>\n",
       "      <td>155048</td>\n",
       "      <td>6393</td>\n",
       "      <td>...</td>\n",
       "      <td>129069</td>\n",
       "      <td>336041</td>\n",
       "      <td>126060</td>\n",
       "      <td>191286</td>\n",
       "      <td>972122</td>\n",
       "      <td>134045</td>\n",
       "      <td>75939</td>\n",
       "      <td>518470</td>\n",
       "      <td>188636</td>\n",
       "      <td>12184</td>\n",
       "    </tr>\n",
       "    <tr>\n",
       "      <th>Youth with Child</th>\n",
       "      <td>179358</td>\n",
       "      <td>2961</td>\n",
       "      <td>93544</td>\n",
       "      <td>754031</td>\n",
       "      <td>13547</td>\n",
       "      <td>21424</td>\n",
       "      <td>210367</td>\n",
       "      <td>8754</td>\n",
       "      <td>69598</td>\n",
       "      <td>2892</td>\n",
       "      <td>...</td>\n",
       "      <td>57409</td>\n",
       "      <td>149309</td>\n",
       "      <td>57982</td>\n",
       "      <td>84963</td>\n",
       "      <td>435092</td>\n",
       "      <td>59012</td>\n",
       "      <td>34602</td>\n",
       "      <td>230507</td>\n",
       "      <td>83567</td>\n",
       "      <td>5676</td>\n",
       "    </tr>\n",
       "  </tbody>\n",
       "</table>\n",
       "<p>6 rows × 21 columns</p>\n",
       "</div>"
      ],
      "text/plain": [
       "department_id           1      2       3        4      5       6        7   \\\n",
       "Customer_profile                                                             \n",
       "Adult with Child   1013626  16385  535560  4342995  68210  122460  1228480   \n",
       "Childless Adult     341487   5753  183228  1467865  24249   41694   417751   \n",
       "Childless Senior    133131   1999   68129   562279   8648   15581   158701   \n",
       "Childless Youth      54730    962   30038   245297   3930    7186    68889   \n",
       "Senior with Child   399399   6351  210329  1706806  26043   47646   487713   \n",
       "Youth with Child    179358   2961   93544   754031  13547   21424   210367   \n",
       "\n",
       "department_id         8       9      10  ...      12      13      14      15  \\\n",
       "Customer_profile                         ...                                   \n",
       "Adult with Child   43335  393194  16166  ...  322425  853451  320376  484805   \n",
       "Childless Adult    14670  131734   5182  ...  106346  287379  109535  163735   \n",
       "Childless Senior    6382   50425   1943  ...   41704  109133   39431   60654   \n",
       "Childless Youth     2550   22137    875  ...   17828   47392   17466   26631   \n",
       "Senior with Child  17369  155048   6393  ...  129069  336041  126060  191286   \n",
       "Youth with Child    8754   69598   2892  ...   57409  149309   57982   84963   \n",
       "\n",
       "department_id           16      17      18       19      20     21  \n",
       "Customer_profile                                                    \n",
       "Adult with Child   2475592  335442  196523  1326991  478249  30973  \n",
       "Childless Adult     837399  110969   67882   447738  165150  10451  \n",
       "Childless Senior    318917   42382   24223   170004   61827   3721  \n",
       "Childless Youth     138060   18007   11223    72696   26405   1763  \n",
       "Senior with Child   972122  134045   75939   518470  188636  12184  \n",
       "Youth with Child    435092   59012   34602   230507   83567   5676  \n",
       "\n",
       "[6 rows x 21 columns]"
      ]
     },
     "execution_count": 26,
     "metadata": {},
     "output_type": "execute_result"
    }
   ],
   "source": [
    "#viewing crosstab\n",
    "crosstab_profile_departments"
   ]
  },
  {
   "cell_type": "code",
   "execution_count": 27,
   "id": "a7f513fa",
   "metadata": {},
   "outputs": [],
   "source": [
    "# customer profiles across departments\n",
    "crosstab_profile_region= pd.crosstab(ords_prods_cust_merged_high_activity['region_flag'],ords_prods_cust_merged_high_activity['Customer_profile'],dropna=False)"
   ]
  },
  {
   "cell_type": "code",
   "execution_count": 28,
   "id": "e6f75c70",
   "metadata": {},
   "outputs": [
    {
     "data": {
      "text/html": [
       "<div>\n",
       "<style scoped>\n",
       "    .dataframe tbody tr th:only-of-type {\n",
       "        vertical-align: middle;\n",
       "    }\n",
       "\n",
       "    .dataframe tbody tr th {\n",
       "        vertical-align: top;\n",
       "    }\n",
       "\n",
       "    .dataframe thead th {\n",
       "        text-align: right;\n",
       "    }\n",
       "</style>\n",
       "<table border=\"1\" class=\"dataframe\">\n",
       "  <thead>\n",
       "    <tr style=\"text-align: right;\">\n",
       "      <th>Customer_profile</th>\n",
       "      <th>Adult with Child</th>\n",
       "      <th>Childless Adult</th>\n",
       "      <th>Childless Senior</th>\n",
       "      <th>Childless Youth</th>\n",
       "      <th>Senior with Child</th>\n",
       "      <th>Youth with Child</th>\n",
       "    </tr>\n",
       "    <tr>\n",
       "      <th>region_flag</th>\n",
       "      <th></th>\n",
       "      <th></th>\n",
       "      <th></th>\n",
       "      <th></th>\n",
       "      <th></th>\n",
       "      <th></th>\n",
       "    </tr>\n",
       "  </thead>\n",
       "  <tbody>\n",
       "    <tr>\n",
       "      <th>Midwest</th>\n",
       "      <td>3478455</td>\n",
       "      <td>1191826</td>\n",
       "      <td>448385</td>\n",
       "      <td>182605</td>\n",
       "      <td>1351221</td>\n",
       "      <td>609021</td>\n",
       "    </tr>\n",
       "    <tr>\n",
       "      <th>Northeast</th>\n",
       "      <td>2619566</td>\n",
       "      <td>847839</td>\n",
       "      <td>356517</td>\n",
       "      <td>150126</td>\n",
       "      <td>1037973</td>\n",
       "      <td>452664</td>\n",
       "    </tr>\n",
       "    <tr>\n",
       "      <th>South</th>\n",
       "      <td>4916392</td>\n",
       "      <td>1680577</td>\n",
       "      <td>612071</td>\n",
       "      <td>289285</td>\n",
       "      <td>1936963</td>\n",
       "      <td>875851</td>\n",
       "    </tr>\n",
       "    <tr>\n",
       "      <th>West</th>\n",
       "      <td>3795673</td>\n",
       "      <td>1288208</td>\n",
       "      <td>488748</td>\n",
       "      <td>203494</td>\n",
       "      <td>1498956</td>\n",
       "      <td>652148</td>\n",
       "    </tr>\n",
       "  </tbody>\n",
       "</table>\n",
       "</div>"
      ],
      "text/plain": [
       "Customer_profile  Adult with Child  Childless Adult  Childless Senior  \\\n",
       "region_flag                                                             \n",
       "Midwest                    3478455          1191826            448385   \n",
       "Northeast                  2619566           847839            356517   \n",
       "South                      4916392          1680577            612071   \n",
       "West                       3795673          1288208            488748   \n",
       "\n",
       "Customer_profile  Childless Youth  Senior with Child  Youth with Child  \n",
       "region_flag                                                             \n",
       "Midwest                    182605            1351221            609021  \n",
       "Northeast                  150126            1037973            452664  \n",
       "South                      289285            1936963            875851  \n",
       "West                       203494            1498956            652148  "
      ]
     },
     "execution_count": 28,
     "metadata": {},
     "output_type": "execute_result"
    }
   ],
   "source": [
    "#viewing crosstab\n",
    "crosstab_profile_region"
   ]
  },
  {
   "cell_type": "code",
   "execution_count": 29,
   "id": "99206a37",
   "metadata": {},
   "outputs": [
    {
     "data": {
      "text/plain": [
       "<AxesSubplot:xlabel='region_flag'>"
      ]
     },
     "execution_count": 29,
     "metadata": {},
     "output_type": "execute_result"
    },
    {
     "data": {
      "image/png": "[encoded data removed]",
      "text/plain": [
       "<Figure size 432x288 with 1 Axes>"
      ]
     },
     "metadata": {
      "needs_background": "light"
     },
     "output_type": "display_data"
    }
   ],
   "source": [
    "crosstab_profile_region.plot(kind = 'bar', stacked = True)\n",
    "# creating chart from crosstab profile regions with legend on the right\n",
    "\n"
   ]
  },
  {
   "cell_type": "markdown",
   "id": "59e2b720",
   "metadata": {},
   "source": [
    "# ADDITIONAL VISUALISATIONS TO ANSWER KEY QUESTIONS"
   ]
  },
  {
   "cell_type": "markdown",
   "id": "d4c24109",
   "metadata": {},
   "source": [
    "Q2- Are there particular times of the day when people spend the most money?"
   ]
  },
  {
   "cell_type": "code",
   "execution_count": 6,
   "id": "f3482a29",
   "metadata": {},
   "outputs": [
    {
     "data": {
      "text/plain": [
       "Text(0, 0.5, 'Sum of money spent in $')"
      ]
     },
     "execution_count": 6,
     "metadata": {},
     "output_type": "execute_result"
    },
    {
     "data": {
      "image/png": "[encoded data removed]",
      "text/plain": [
       "<Figure size 432x288 with 1 Axes>"
      ]
     },
     "metadata": {
      "needs_background": "light"
     },
     "output_type": "display_data"
    }
   ],
   "source": [
    "#checking the sum of money(prices) spent across hours\n",
    "data =ords_prods_cust_merged_high_activity.groupby('order_hour_of_day').agg({'prices': ['sum']})\n",
    "\n",
    "# plot data in bar chart with disabled legend\n",
    "q2_most_money_hour=data.plot(kind = 'bar', legend = False)\n",
    "\n",
    "plt.title('Sum of money spent per hour')\n",
    "plt.xlabel(\"Hour of day\", fontsize=9)\n",
    "plt.ylabel(\"Sum of money spent in $\",fontsize=9)"
   ]
  },
  {
   "cell_type": "code",
   "execution_count": 7,
   "id": "bc40101c",
   "metadata": {},
   "outputs": [],
   "source": [
    "# exporting chart\n",
    "q2_most_money_hour.figure.savefig(os.path.join(path, '04 Analysis', 'Visualizations', 'q2_most_money_hour.png'))"
   ]
  },
  {
   "cell_type": "markdown",
   "id": "bcd60542",
   "metadata": {},
   "source": [
    "Q3.Marketing and sales want to use simpler price range groupings to help direct their efforts.\n"
   ]
  },
  {
   "cell_type": "code",
   "execution_count": 32,
   "id": "1655e05d",
   "metadata": {},
   "outputs": [
    {
     "data": {
      "text/plain": [
       "Text(0, 0.5, '')"
      ]
     },
     "execution_count": 32,
     "metadata": {},
     "output_type": "execute_result"
    },
    {
     "data": {
      "image/png": "[encoded data removed]",
      "text/plain": [
       "<Figure size 432x288 with 1 Axes>"
      ]
     },
     "metadata": {},
     "output_type": "display_data"
    }
   ],
   "source": [
    "# bar chart for the price categories created earlier\n",
    "q3_price_ranges_pie=ords_prods_cust_merged_high_activity['price_range_loc'].value_counts(dropna=False).plot.pie(autopct = '%1.0f%%')\n",
    "plt.title('Items bought per price category')\n",
    "plt.ylabel(None)"
   ]
  },
  {
   "cell_type": "code",
   "execution_count": 33,
   "id": "53ac6dfe",
   "metadata": {},
   "outputs": [],
   "source": [
    "# exporting pie chart\n",
    "q3_price_ranges_pie.figure.savefig(os.path.join(path, '04 Analysis', 'Visualizations', 'q3_price_ranges_pie.png'))"
   ]
  },
  {
   "cell_type": "markdown",
   "id": "61729d3d",
   "metadata": {},
   "source": [
    "Q4 - 4. Are there certain types of products that are more popular than others? The marketing and sales teams want to know which departments have the highest frequency of product orders"
   ]
  },
  {
   "cell_type": "code",
   "execution_count": 15,
   "id": "3619eb28",
   "metadata": {},
   "outputs": [
    {
     "data": {
      "text/html": [
       "<div>\n",
       "<style scoped>\n",
       "    .dataframe tbody tr th:only-of-type {\n",
       "        vertical-align: middle;\n",
       "    }\n",
       "\n",
       "    .dataframe tbody tr th {\n",
       "        vertical-align: top;\n",
       "    }\n",
       "\n",
       "    .dataframe thead th {\n",
       "        text-align: right;\n",
       "    }\n",
       "</style>\n",
       "<table border=\"1\" class=\"dataframe\">\n",
       "  <thead>\n",
       "    <tr style=\"text-align: right;\">\n",
       "      <th></th>\n",
       "      <th>department_id</th>\n",
       "      <th>department</th>\n",
       "    </tr>\n",
       "  </thead>\n",
       "  <tbody>\n",
       "    <tr>\n",
       "      <th>0</th>\n",
       "      <td>1</td>\n",
       "      <td>frozen</td>\n",
       "    </tr>\n",
       "    <tr>\n",
       "      <th>1</th>\n",
       "      <td>2</td>\n",
       "      <td>other</td>\n",
       "    </tr>\n",
       "    <tr>\n",
       "      <th>2</th>\n",
       "      <td>3</td>\n",
       "      <td>bakery</td>\n",
       "    </tr>\n",
       "    <tr>\n",
       "      <th>3</th>\n",
       "      <td>4</td>\n",
       "      <td>produce</td>\n",
       "    </tr>\n",
       "    <tr>\n",
       "      <th>4</th>\n",
       "      <td>5</td>\n",
       "      <td>alcohol</td>\n",
       "    </tr>\n",
       "  </tbody>\n",
       "</table>\n",
       "</div>"
      ],
      "text/plain": [
       "   department_id department\n",
       "0              1     frozen\n",
       "1              2      other\n",
       "2              3     bakery\n",
       "3              4    produce\n",
       "4              5    alcohol"
      ]
     },
     "execution_count": 15,
     "metadata": {},
     "output_type": "execute_result"
    }
   ],
   "source": [
    "#import departments dataset\n",
    "departments = pd.read_csv(os.path.join(path, '02 Data', 'Prepared Data','departments_wrangled.csv'))\n",
    "departments.head()"
   ]
  },
  {
   "cell_type": "code",
   "execution_count": 7,
   "id": "f87599eb",
   "metadata": {},
   "outputs": [
    {
     "data": {
      "text/plain": [
       "10      33451\n",
       "2       34411\n",
       "21      64768\n",
       "8       93060\n",
       "5      144627\n",
       "6      255991\n",
       "18     410392\n",
       "11     424306\n",
       "14     670850\n",
       "12     674781\n",
       "17     699857\n",
       "9      822136\n",
       "20    1003834\n",
       "15    1012074\n",
       "3     1120828\n",
       "13    1782705\n",
       "1     2121731\n",
       "7     2571901\n",
       "19    2766406\n",
       "16    5177182\n",
       "4     9079273\n",
       "Name: department_id, dtype: int64"
      ]
     },
     "execution_count": 7,
     "metadata": {},
     "output_type": "execute_result"
    }
   ],
   "source": [
    "#creating frequency table of departments\n",
    "df_barchart=ords_prods_cust_merged_high_activity['department_id'].value_counts(dropna=False).sort_values()\n",
    "df_barchart"
   ]
  },
  {
   "cell_type": "code",
   "execution_count": 20,
   "id": "ed737ad3",
   "metadata": {},
   "outputs": [
    {
     "ename": "AttributeError",
     "evalue": "'Series' object has no attribute 'merge'",
     "output_type": "error",
     "traceback": [
      "\u001b[1;31m---------------------------------------------------------------------------\u001b[0m",
      "\u001b[1;31mAttributeError\u001b[0m                            Traceback (most recent call last)",
      "\u001b[1;32mc:\\Users\\viki\\Documents\\Data Analytics\\Immersion\\Achievement 4\\Instacart Basket Analysis\\03 Scripts\\4.10 Final Task_Step_5to10.ipynb Cell 49'\u001b[0m in \u001b[0;36m<cell line: 2>\u001b[1;34m()\u001b[0m\n\u001b[0;32m      <a href='vscode-notebook-cell:/c%3A/Users/viki/Documents/Data%20Analytics/Immersion/Achievement%204/Instacart%20Basket%20Analysis/03%20Scripts/4.10%20Final%20Task_Step_5to10.ipynb#ch0000089?line=0'>1</a>\u001b[0m \u001b[39m#joining df_barchart with departments\u001b[39;00m\n\u001b[1;32m----> <a href='vscode-notebook-cell:/c%3A/Users/viki/Documents/Data%20Analytics/Immersion/Achievement%204/Instacart%20Basket%20Analysis/03%20Scripts/4.10%20Final%20Task_Step_5to10.ipynb#ch0000089?line=1'>2</a>\u001b[0m df_barchart_departments\u001b[39m=\u001b[39mdf_barchart\u001b[39m.\u001b[39;49mmerge(departments,on\u001b[39m=\u001b[39m\u001b[39m'\u001b[39m\u001b[39mdepartment_id\u001b[39m\u001b[39m'\u001b[39m)\n\u001b[0;32m      <a href='vscode-notebook-cell:/c%3A/Users/viki/Documents/Data%20Analytics/Immersion/Achievement%204/Instacart%20Basket%20Analysis/03%20Scripts/4.10%20Final%20Task_Step_5to10.ipynb#ch0000089?line=2'>3</a>\u001b[0m df_barchart_departments\u001b[39m.\u001b[39mhead()\n",
      "File \u001b[1;32m~\\AppData\\Local\\Packages\\PythonSoftwareFoundation.Python.3.9_qbz5n2kfra8p0\\LocalCache\\local-packages\\Python39\\site-packages\\pandas\\core\\generic.py:5575\u001b[0m, in \u001b[0;36mNDFrame.__getattr__\u001b[1;34m(self, name)\u001b[0m\n\u001b[0;32m   <a href='file:///c%3A/Users/viki/AppData/Local/Packages/PythonSoftwareFoundation.Python.3.9_qbz5n2kfra8p0/LocalCache/local-packages/Python39/site-packages/pandas/core/generic.py?line=5567'>5568</a>\u001b[0m \u001b[39mif\u001b[39;00m (\n\u001b[0;32m   <a href='file:///c%3A/Users/viki/AppData/Local/Packages/PythonSoftwareFoundation.Python.3.9_qbz5n2kfra8p0/LocalCache/local-packages/Python39/site-packages/pandas/core/generic.py?line=5568'>5569</a>\u001b[0m     name \u001b[39mnot\u001b[39;00m \u001b[39min\u001b[39;00m \u001b[39mself\u001b[39m\u001b[39m.\u001b[39m_internal_names_set\n\u001b[0;32m   <a href='file:///c%3A/Users/viki/AppData/Local/Packages/PythonSoftwareFoundation.Python.3.9_qbz5n2kfra8p0/LocalCache/local-packages/Python39/site-packages/pandas/core/generic.py?line=5569'>5570</a>\u001b[0m     \u001b[39mand\u001b[39;00m name \u001b[39mnot\u001b[39;00m \u001b[39min\u001b[39;00m \u001b[39mself\u001b[39m\u001b[39m.\u001b[39m_metadata\n\u001b[0;32m   <a href='file:///c%3A/Users/viki/AppData/Local/Packages/PythonSoftwareFoundation.Python.3.9_qbz5n2kfra8p0/LocalCache/local-packages/Python39/site-packages/pandas/core/generic.py?line=5570'>5571</a>\u001b[0m     \u001b[39mand\u001b[39;00m name \u001b[39mnot\u001b[39;00m \u001b[39min\u001b[39;00m \u001b[39mself\u001b[39m\u001b[39m.\u001b[39m_accessors\n\u001b[0;32m   <a href='file:///c%3A/Users/viki/AppData/Local/Packages/PythonSoftwareFoundation.Python.3.9_qbz5n2kfra8p0/LocalCache/local-packages/Python39/site-packages/pandas/core/generic.py?line=5571'>5572</a>\u001b[0m     \u001b[39mand\u001b[39;00m \u001b[39mself\u001b[39m\u001b[39m.\u001b[39m_info_axis\u001b[39m.\u001b[39m_can_hold_identifiers_and_holds_name(name)\n\u001b[0;32m   <a href='file:///c%3A/Users/viki/AppData/Local/Packages/PythonSoftwareFoundation.Python.3.9_qbz5n2kfra8p0/LocalCache/local-packages/Python39/site-packages/pandas/core/generic.py?line=5572'>5573</a>\u001b[0m ):\n\u001b[0;32m   <a href='file:///c%3A/Users/viki/AppData/Local/Packages/PythonSoftwareFoundation.Python.3.9_qbz5n2kfra8p0/LocalCache/local-packages/Python39/site-packages/pandas/core/generic.py?line=5573'>5574</a>\u001b[0m     \u001b[39mreturn\u001b[39;00m \u001b[39mself\u001b[39m[name]\n\u001b[1;32m-> <a href='file:///c%3A/Users/viki/AppData/Local/Packages/PythonSoftwareFoundation.Python.3.9_qbz5n2kfra8p0/LocalCache/local-packages/Python39/site-packages/pandas/core/generic.py?line=5574'>5575</a>\u001b[0m \u001b[39mreturn\u001b[39;00m \u001b[39mobject\u001b[39;49m\u001b[39m.\u001b[39;49m\u001b[39m__getattribute__\u001b[39;49m(\u001b[39mself\u001b[39;49m, name)\n",
      "\u001b[1;31mAttributeError\u001b[0m: 'Series' object has no attribute 'merge'"
     ]
    }
   ],
   "source": [
    "#joining df_barchart with departments\n",
    "df_barchart_departments=df_barchart.merge(departments,on='department_id')\n",
    "df_barchart_departments.head()"
   ]
  },
  {
   "cell_type": "code",
   "execution_count": null,
   "id": "9a430b77",
   "metadata": {},
   "outputs": [],
   "source": []
  },
  {
   "cell_type": "code",
   "execution_count": 5,
   "id": "73c64956",
   "metadata": {},
   "outputs": [
    {
     "data": {
      "text/plain": [
       "[Text(0, 0, 'frozen'),\n",
       " Text(0, 1, 'other'),\n",
       " Text(0, 2, 'bakery'),\n",
       " Text(0, 3, 'produce'),\n",
       " Text(0, 4, 'alcohol'),\n",
       " Text(0, 5, 'international'),\n",
       " Text(0, 6, 'beverages'),\n",
       " Text(0, 7, 'pets'),\n",
       " Text(0, 8, 'dry goods pasta'),\n",
       " Text(0, 9, 'bulk'),\n",
       " Text(0, 10, 'personal care'),\n",
       " Text(0, 11, 'meat seafood'),\n",
       " Text(0, 12, 'pantry'),\n",
       " Text(0, 13, 'breakfast'),\n",
       " Text(0, 14, 'canned goods'),\n",
       " Text(0, 15, 'dairy eggs'),\n",
       " Text(0, 16, 'household'),\n",
       " Text(0, 17, 'babies'),\n",
       " Text(0, 18, 'snacks'),\n",
       " Text(0, 19, 'deli'),\n",
       " Text(0, 20, 'missing')]"
      ]
     },
     "execution_count": 5,
     "metadata": {},
     "output_type": "execute_result"
    },
    {
     "data": {
      "image/png": "[encoded data removed]",
      "text/plain": [
       "<Figure size 432x288 with 1 Axes>"
      ]
     },
     "metadata": {
      "needs_background": "light"
     },
     "output_type": "display_data"
    }
   ],
   "source": [
    "# frequency of orders per department id\n",
    "q4_bar_frequency_departments=ords_prods_cust_merged_high_activity['department_id'].value_counts(dropna=False).sort_values().plot.barh()\n",
    "plt.title('Orders per department ID')\n",
    "plt.ylabel(\"Departments\", fontsize=9)\n",
    "plt.xlabel(\"Number of orders\",fontsize=9)\n",
    "\n",
    "#renaming bar categories\n",
    "q4_bar_frequency_departments.set_yticklabels(['frozen','other','bakery','produce','alcohol','international','beverages','pets','dry goods pasta','bulk','personal care','meat seafood','pantry','breakfast','canned goods','dairy eggs','household','babies','snacks','deli','missing'], rotation=0, horizontalalignment='right')\n",
    "\n"
   ]
  },
  {
   "cell_type": "code",
   "execution_count": 35,
   "id": "ba8f9069",
   "metadata": {},
   "outputs": [],
   "source": [
    "# exporting bar chart\n",
    "q4_bar_frequency_departments.figure.savefig(os.path.join(path, '04 Analysis', 'Visualizations', 'q4_bar_frequency_departments.png'))"
   ]
  },
  {
   "attachments": {},
   "cell_type": "markdown",
   "id": "c561a005",
   "metadata": {},
   "source": [
    "Q5 - What’s the distribution among users in regards to their brand loyalty (i.e., how often do they return to Instacart)?"
   ]
  },
  {
   "cell_type": "code",
   "execution_count": 36,
   "id": "09246af1",
   "metadata": {},
   "outputs": [
    {
     "data": {
      "text/plain": [
       "Text(0, 0.5, '')"
      ]
     },
     "execution_count": 36,
     "metadata": {},
     "output_type": "execute_result"
    },
    {
     "data": {
      "image/png": "[encoded data removed]",
      "text/plain": [
       "<Figure size 432x288 with 1 Axes>"
      ]
     },
     "metadata": {},
     "output_type": "display_data"
    }
   ],
   "source": [
    "# creating pie chart for brand loyalty\n",
    "q5_loyalty_pie=ords_prods_cust_merged_high_activity['loyalty_flag'].value_counts(dropna=False).plot.pie(autopct = '%1.0f%%', colors=['orange', 'green', 'blue'])\n",
    "plt.title('Brand loyalty')\n",
    "plt.ylabel(None)"
   ]
  },
  {
   "cell_type": "code",
   "execution_count": 37,
   "id": "97adaa11",
   "metadata": {},
   "outputs": [],
   "source": [
    "#exporting pie chart\n",
    "q5_loyalty_pie.figure.savefig(os.path.join(path, '04 Analysis', 'Visualizations', 'q5_loyalty_pie.png'))"
   ]
  },
  {
   "cell_type": "markdown",
   "id": "8179656e",
   "metadata": {},
   "source": [
    "Q6. Are there differences in ordering habits based on a customer’s loyalty status?\n"
   ]
  },
  {
   "cell_type": "code",
   "execution_count": 27,
   "id": "b1f6d8ea",
   "metadata": {},
   "outputs": [],
   "source": [
    "# creating cross tab for days of week based on loyalty\n",
    "crosstab_dow_loyalty= pd.crosstab(ords_prods_cust_merged_high_activity['orders_day_of_week'],ords_prods_cust_merged_high_activity['loyalty_flag'],dropna=False, normalize='index').round(4)*100"
   ]
  },
  {
   "cell_type": "code",
   "execution_count": 39,
   "id": "dc82dc37",
   "metadata": {},
   "outputs": [
    {
     "data": {
      "text/html": [
       "<div>\n",
       "<style scoped>\n",
       "    .dataframe tbody tr th:only-of-type {\n",
       "        vertical-align: middle;\n",
       "    }\n",
       "\n",
       "    .dataframe tbody tr th {\n",
       "        vertical-align: top;\n",
       "    }\n",
       "\n",
       "    .dataframe thead th {\n",
       "        text-align: right;\n",
       "    }\n",
       "</style>\n",
       "<table border=\"1\" class=\"dataframe\">\n",
       "  <thead>\n",
       "    <tr style=\"text-align: right;\">\n",
       "      <th>loyalty_flag</th>\n",
       "      <th>Loyal customer</th>\n",
       "      <th>New customer</th>\n",
       "      <th>Regular customer</th>\n",
       "    </tr>\n",
       "    <tr>\n",
       "      <th>orders_day_of_week</th>\n",
       "      <th></th>\n",
       "      <th></th>\n",
       "      <th></th>\n",
       "    </tr>\n",
       "  </thead>\n",
       "  <tbody>\n",
       "    <tr>\n",
       "      <th>0</th>\n",
       "      <td>29.70</td>\n",
       "      <td>16.67</td>\n",
       "      <td>53.63</td>\n",
       "    </tr>\n",
       "    <tr>\n",
       "      <th>1</th>\n",
       "      <td>34.06</td>\n",
       "      <td>15.13</td>\n",
       "      <td>50.80</td>\n",
       "    </tr>\n",
       "    <tr>\n",
       "      <th>2</th>\n",
       "      <td>33.60</td>\n",
       "      <td>15.54</td>\n",
       "      <td>50.86</td>\n",
       "    </tr>\n",
       "    <tr>\n",
       "      <th>3</th>\n",
       "      <td>34.51</td>\n",
       "      <td>15.27</td>\n",
       "      <td>50.21</td>\n",
       "    </tr>\n",
       "    <tr>\n",
       "      <th>4</th>\n",
       "      <td>35.64</td>\n",
       "      <td>14.78</td>\n",
       "      <td>49.57</td>\n",
       "    </tr>\n",
       "    <tr>\n",
       "      <th>5</th>\n",
       "      <td>36.11</td>\n",
       "      <td>14.57</td>\n",
       "      <td>49.32</td>\n",
       "    </tr>\n",
       "    <tr>\n",
       "      <th>6</th>\n",
       "      <td>30.72</td>\n",
       "      <td>16.09</td>\n",
       "      <td>53.19</td>\n",
       "    </tr>\n",
       "  </tbody>\n",
       "</table>\n",
       "</div>"
      ],
      "text/plain": [
       "loyalty_flag        Loyal customer  New customer  Regular customer\n",
       "orders_day_of_week                                                \n",
       "0                            29.70         16.67             53.63\n",
       "1                            34.06         15.13             50.80\n",
       "2                            33.60         15.54             50.86\n",
       "3                            34.51         15.27             50.21\n",
       "4                            35.64         14.78             49.57\n",
       "5                            36.11         14.57             49.32\n",
       "6                            30.72         16.09             53.19"
      ]
     },
     "execution_count": 39,
     "metadata": {},
     "output_type": "execute_result"
    }
   ],
   "source": [
    "crosstab_dow_loyalty"
   ]
  },
  {
   "cell_type": "code",
   "execution_count": 37,
   "id": "cd8502bc",
   "metadata": {},
   "outputs": [
    {
     "data": {
      "text/plain": [
       "[Text(0, 0, 'Saturday'),\n",
       " Text(1, 0, 'Sunday'),\n",
       " Text(2, 0, 'Monday'),\n",
       " Text(3, 0, 'Tuesday'),\n",
       " Text(4, 0, 'Wednesday'),\n",
       " Text(5, 0, 'Thursday'),\n",
       " Text(6, 0, 'Friday')]"
      ]
     },
     "execution_count": 37,
     "metadata": {},
     "output_type": "execute_result"
    },
    {
     "data": {
      "image/png": "[encoded data removed]",
      "text/plain": [
       "<Figure size 432x288 with 1 Axes>"
      ]
     },
     "metadata": {
      "needs_background": "light"
     },
     "output_type": "display_data"
    }
   ],
   "source": [
    "#creating bar chart\n",
    "q6_bar_dow_loyalty=crosstab_dow_loyalty.plot.bar(stacked=True, color =['green', 'blue', 'orange'])\n",
    "plt.title('Distribution of loyalty across days')\n",
    "plt.ylabel(\"Proportion of orders in %\", fontsize=9)\n",
    "plt.xlabel(\"Days of the week\",fontsize=9)\n",
    "plt.legend(loc='center left', bbox_to_anchor=(1, 0.5))\n",
    "\n",
    "#renaming bar categories\n",
    "q6_bar_dow_loyalty.set_xticklabels(['Saturday', 'Sunday','Monday', 'Tuesday', 'Wednesday', 'Thursday', 'Friday'], rotation=90)"
   ]
  },
  {
   "cell_type": "code",
   "execution_count": 38,
   "id": "fe817f14",
   "metadata": {},
   "outputs": [],
   "source": [
    "#exporting bar chart\n",
    "q6_bar_dow_loyalty.figure.savefig(os.path.join(path, '04 Analysis', 'Visualizations', 'q6_bar_dow_loyalty.png'),bbox_inches='tight')"
   ]
  },
  {
   "cell_type": "code",
   "execution_count": 30,
   "id": "0d1a56ee",
   "metadata": {},
   "outputs": [],
   "source": [
    "#creating crosstab for loyalty status across departments\n",
    "crosstab_department_loyalty= pd.crosstab(ords_prods_cust_merged_high_activity['department_id'],ords_prods_cust_merged_high_activity['loyalty_flag'],dropna=False, normalize='index').round(4)*100"
   ]
  },
  {
   "cell_type": "code",
   "execution_count": 34,
   "id": "94fc756a",
   "metadata": {},
   "outputs": [
    {
     "data": {
      "text/plain": [
       "[Text(0, 0, 'frozen'),\n",
       " Text(1, 0, 'other'),\n",
       " Text(2, 0, 'bakery'),\n",
       " Text(3, 0, 'produce'),\n",
       " Text(4, 0, 'alcohol'),\n",
       " Text(5, 0, 'international'),\n",
       " Text(6, 0, 'beverages'),\n",
       " Text(7, 0, 'pets'),\n",
       " Text(8, 0, 'dry goods pasta'),\n",
       " Text(9, 0, 'bulk'),\n",
       " Text(10, 0, 'personal care'),\n",
       " Text(11, 0, 'meat seafood'),\n",
       " Text(12, 0, 'pantry'),\n",
       " Text(13, 0, 'breakfast'),\n",
       " Text(14, 0, 'canned goods'),\n",
       " Text(15, 0, 'dairy eggs'),\n",
       " Text(16, 0, 'household'),\n",
       " Text(17, 0, 'babies'),\n",
       " Text(18, 0, 'snacks'),\n",
       " Text(19, 0, 'deli'),\n",
       " Text(20, 0, 'missing')]"
      ]
     },
     "execution_count": 34,
     "metadata": {},
     "output_type": "execute_result"
    },
    {
     "data": {
      "image/png": "[encoded data removed]",
      "text/plain": [
       "<Figure size 432x288 with 1 Axes>"
      ]
     },
     "metadata": {
      "needs_background": "light"
     },
     "output_type": "display_data"
    }
   ],
   "source": [
    "#creating bar chart \n",
    "q6_bar_department_loyalty=crosstab_department_loyalty.plot.bar(stacked=True, color =['green', 'blue', 'orange'])\n",
    "plt.title('Distribution of loyalty across departments')\n",
    "plt.ylabel(\"Proportion of orders in %\", fontsize=9)\n",
    "plt.xlabel(\"Departments\",fontsize=9)\n",
    "plt.legend(loc='center left', bbox_to_anchor=(1, 0.5))\n",
    "\n",
    "#renaming bar categories\n",
    "q6_bar_department_loyalty.set_xticklabels(['frozen','other','bakery','produce','alcohol','international','beverages','pets','dry goods pasta','bulk','personal care','meat seafood','pantry','breakfast','canned goods','dairy eggs','household','babies','snacks','deli','missing'], rotation=90)"
   ]
  },
  {
   "cell_type": "code",
   "execution_count": 36,
   "id": "08ca4a8b",
   "metadata": {},
   "outputs": [],
   "source": [
    "#exporting bar chart\n",
    "q6_bar_department_loyalty.figure.savefig(os.path.join(path, '04 Analysis', 'Visualizations', 'q6_bar_department_loyalty.png'),bbox_inches='tight')"
   ]
  },
  {
   "cell_type": "markdown",
   "id": "36006763",
   "metadata": {},
   "source": [
    "Q7. Are there differences in ordering habits based on a customer’s region?"
   ]
  },
  {
   "cell_type": "code",
   "execution_count": 24,
   "id": "8a4d4544",
   "metadata": {},
   "outputs": [],
   "source": [
    "# creating cross tab for days of week based on region\n",
    "crosstab_dow_region= pd.crosstab(ords_prods_cust_merged_high_activity['orders_day_of_week'],ords_prods_cust_merged_high_activity['region_flag'],dropna=False, normalize='index').round(4)*100"
   ]
  },
  {
   "cell_type": "code",
   "execution_count": 46,
   "id": "c487ec49",
   "metadata": {},
   "outputs": [
    {
     "data": {
      "text/html": [
       "<div>\n",
       "<style scoped>\n",
       "    .dataframe tbody tr th:only-of-type {\n",
       "        vertical-align: middle;\n",
       "    }\n",
       "\n",
       "    .dataframe tbody tr th {\n",
       "        vertical-align: top;\n",
       "    }\n",
       "\n",
       "    .dataframe thead th {\n",
       "        text-align: right;\n",
       "    }\n",
       "</style>\n",
       "<table border=\"1\" class=\"dataframe\">\n",
       "  <thead>\n",
       "    <tr style=\"text-align: right;\">\n",
       "      <th>region_flag</th>\n",
       "      <th>Midwest</th>\n",
       "      <th>Northeast</th>\n",
       "      <th>South</th>\n",
       "      <th>West</th>\n",
       "    </tr>\n",
       "    <tr>\n",
       "      <th>orders_day_of_week</th>\n",
       "      <th></th>\n",
       "      <th></th>\n",
       "      <th></th>\n",
       "      <th></th>\n",
       "    </tr>\n",
       "  </thead>\n",
       "  <tbody>\n",
       "    <tr>\n",
       "      <th>0</th>\n",
       "      <td>23.53</td>\n",
       "      <td>17.66</td>\n",
       "      <td>33.09</td>\n",
       "      <td>25.71</td>\n",
       "    </tr>\n",
       "    <tr>\n",
       "      <th>1</th>\n",
       "      <td>23.35</td>\n",
       "      <td>17.63</td>\n",
       "      <td>33.42</td>\n",
       "      <td>25.60</td>\n",
       "    </tr>\n",
       "    <tr>\n",
       "      <th>2</th>\n",
       "      <td>23.54</td>\n",
       "      <td>17.72</td>\n",
       "      <td>33.30</td>\n",
       "      <td>25.44</td>\n",
       "    </tr>\n",
       "    <tr>\n",
       "      <th>3</th>\n",
       "      <td>23.31</td>\n",
       "      <td>17.69</td>\n",
       "      <td>33.49</td>\n",
       "      <td>25.50</td>\n",
       "    </tr>\n",
       "    <tr>\n",
       "      <th>4</th>\n",
       "      <td>23.49</td>\n",
       "      <td>17.59</td>\n",
       "      <td>33.26</td>\n",
       "      <td>25.66</td>\n",
       "    </tr>\n",
       "    <tr>\n",
       "      <th>5</th>\n",
       "      <td>23.39</td>\n",
       "      <td>17.75</td>\n",
       "      <td>33.29</td>\n",
       "      <td>25.57</td>\n",
       "    </tr>\n",
       "    <tr>\n",
       "      <th>6</th>\n",
       "      <td>23.54</td>\n",
       "      <td>17.48</td>\n",
       "      <td>33.32</td>\n",
       "      <td>25.66</td>\n",
       "    </tr>\n",
       "  </tbody>\n",
       "</table>\n",
       "</div>"
      ],
      "text/plain": [
       "region_flag         Midwest  Northeast  South   West\n",
       "orders_day_of_week                                  \n",
       "0                     23.53      17.66  33.09  25.71\n",
       "1                     23.35      17.63  33.42  25.60\n",
       "2                     23.54      17.72  33.30  25.44\n",
       "3                     23.31      17.69  33.49  25.50\n",
       "4                     23.49      17.59  33.26  25.66\n",
       "5                     23.39      17.75  33.29  25.57\n",
       "6                     23.54      17.48  33.32  25.66"
      ]
     },
     "execution_count": 46,
     "metadata": {},
     "output_type": "execute_result"
    }
   ],
   "source": [
    "crosstab_dow_region"
   ]
  },
  {
   "cell_type": "code",
   "execution_count": 40,
   "id": "04af05e0",
   "metadata": {},
   "outputs": [
    {
     "data": {
      "text/plain": [
       "[Text(0, 0, 'Saturday'),\n",
       " Text(1, 0, 'Sunday'),\n",
       " Text(2, 0, 'Monday'),\n",
       " Text(3, 0, 'Tuesday'),\n",
       " Text(4, 0, 'Wednesday'),\n",
       " Text(5, 0, 'Thursday'),\n",
       " Text(6, 0, 'Friday')]"
      ]
     },
     "execution_count": 40,
     "metadata": {},
     "output_type": "execute_result"
    },
    {
     "data": {
      "image/png": "[encoded data removed]",
      "text/plain": [
       "<Figure size 432x288 with 1 Axes>"
      ]
     },
     "metadata": {
      "needs_background": "light"
     },
     "output_type": "display_data"
    }
   ],
   "source": [
    "#creating stacked bar chart\n",
    "q7_bar_dow_region=crosstab_dow_region.plot.bar(stacked= True)\n",
    "plt.title('Distribution of regions across days')\n",
    "plt.ylabel(\"Proportion of orders in %\", fontsize=9)\n",
    "plt.xlabel(\"Days of the week\",fontsize=9)\n",
    "plt.legend(loc='center left', bbox_to_anchor=(1, 0.5))\n",
    "\n",
    "#renaming bar categories\n",
    "q7_bar_dow_region.set_xticklabels(['Saturday', 'Sunday','Monday', 'Tuesday', 'Wednesday', 'Thursday', 'Friday'], rotation=90)"
   ]
  },
  {
   "cell_type": "code",
   "execution_count": 41,
   "id": "62de89b8",
   "metadata": {},
   "outputs": [],
   "source": [
    "#exporting stacked bar chart\n",
    "q7_bar_dow_region.figure.savefig(os.path.join(path, '04 Analysis', 'Visualizations', 'q7_bar_dow_region.png'),bbox_inches='tight')"
   ]
  },
  {
   "cell_type": "code",
   "execution_count": 19,
   "id": "02fc2872",
   "metadata": {},
   "outputs": [],
   "source": [
    "# creating cross tab for departments based on region\n",
    "crosstab_department_region= pd.crosstab(ords_prods_cust_merged_high_activity['department_id'],ords_prods_cust_merged_high_activity['region_flag'],dropna=False, normalize='index').round(4)*100"
   ]
  },
  {
   "cell_type": "code",
   "execution_count": 42,
   "id": "7fc38502",
   "metadata": {},
   "outputs": [
    {
     "data": {
      "text/plain": [
       "[Text(0, 0, 'frozen'),\n",
       " Text(1, 0, 'other'),\n",
       " Text(2, 0, 'bakery'),\n",
       " Text(3, 0, 'produce'),\n",
       " Text(4, 0, 'alcohol'),\n",
       " Text(5, 0, 'international'),\n",
       " Text(6, 0, 'beverages'),\n",
       " Text(7, 0, 'pets'),\n",
       " Text(8, 0, 'dry goods pasta'),\n",
       " Text(9, 0, 'bulk'),\n",
       " Text(10, 0, 'personal care'),\n",
       " Text(11, 0, 'meat seafood'),\n",
       " Text(12, 0, 'pantry'),\n",
       " Text(13, 0, 'breakfast'),\n",
       " Text(14, 0, 'canned goods'),\n",
       " Text(15, 0, 'dairy eggs'),\n",
       " Text(16, 0, 'household'),\n",
       " Text(17, 0, 'babies'),\n",
       " Text(18, 0, 'snacks'),\n",
       " Text(19, 0, 'deli'),\n",
       " Text(20, 0, 'missing')]"
      ]
     },
     "execution_count": 42,
     "metadata": {},
     "output_type": "execute_result"
    },
    {
     "data": {
      "image/png": "[encoded data removed]",
      "text/plain": [
       "<Figure size 432x288 with 1 Axes>"
      ]
     },
     "metadata": {
      "needs_background": "light"
     },
     "output_type": "display_data"
    }
   ],
   "source": [
    "#creating stacked bar chart\n",
    "q7_bar_department_region=crosstab_department_region.plot.bar(stacked= True)\n",
    "plt.title('Distribution of regions across departments')\n",
    "plt.ylabel(\"Proportion of orders in %\", fontsize=9)\n",
    "plt.xlabel(\"Departments\",fontsize=9)\n",
    "plt.legend(loc='center left', bbox_to_anchor=(1, 0.5))\n",
    "\n",
    "#renaming bar categories\n",
    "q7_bar_department_region.set_xticklabels(['frozen','other','bakery','produce','alcohol','international','beverages','pets','dry goods pasta','bulk','personal care','meat seafood','pantry','breakfast','canned goods','dairy eggs','household','babies','snacks','deli','missing'], rotation=90)"
   ]
  },
  {
   "cell_type": "code",
   "execution_count": 43,
   "id": "d495e2fd",
   "metadata": {},
   "outputs": [],
   "source": [
    "# exporting bar chart\n",
    "q7_bar_department_region.figure.savefig(os.path.join(path, '04 Analysis', 'Visualizations', 'q7_bar_department_region.png'), bbox_inches='tight')"
   ]
  },
  {
   "cell_type": "markdown",
   "id": "2567e6cc",
   "metadata": {},
   "source": [
    "Q8. Is there a connection between age and family status in terms of ordering habits?"
   ]
  },
  {
   "cell_type": "code",
   "execution_count": 6,
   "id": "b9a8a06c",
   "metadata": {},
   "outputs": [],
   "source": [
    "# Creating crosstab age vs. spending\n",
    "crosstab_age_spending= pd.crosstab(ords_prods_cust_merged_high_activity['spending_flag'],ords_prods_cust_merged_high_activity['Age_Group'],dropna=False, normalize='index').round(4)*100"
   ]
  },
  {
   "cell_type": "code",
   "execution_count": 53,
   "id": "0ad40270",
   "metadata": {},
   "outputs": [
    {
     "data": {
      "text/html": [
       "<div>\n",
       "<style scoped>\n",
       "    .dataframe tbody tr th:only-of-type {\n",
       "        vertical-align: middle;\n",
       "    }\n",
       "\n",
       "    .dataframe tbody tr th {\n",
       "        vertical-align: top;\n",
       "    }\n",
       "\n",
       "    .dataframe thead th {\n",
       "        text-align: right;\n",
       "    }\n",
       "</style>\n",
       "<table border=\"1\" class=\"dataframe\">\n",
       "  <thead>\n",
       "    <tr style=\"text-align: right;\">\n",
       "      <th>Age_Group</th>\n",
       "      <th>Adult (24-65 yrs)</th>\n",
       "      <th>Senior (65+ yrs)</th>\n",
       "      <th>Youth(under 24 yrs)</th>\n",
       "    </tr>\n",
       "    <tr>\n",
       "      <th>spending_flag</th>\n",
       "      <th></th>\n",
       "      <th></th>\n",
       "      <th></th>\n",
       "    </tr>\n",
       "  </thead>\n",
       "  <tbody>\n",
       "    <tr>\n",
       "      <th>High Spender</th>\n",
       "      <td>64.76</td>\n",
       "      <td>24.22</td>\n",
       "      <td>11.02</td>\n",
       "    </tr>\n",
       "    <tr>\n",
       "      <th>Low Spender</th>\n",
       "      <td>63.99</td>\n",
       "      <td>24.98</td>\n",
       "      <td>11.03</td>\n",
       "    </tr>\n",
       "  </tbody>\n",
       "</table>\n",
       "</div>"
      ],
      "text/plain": [
       "Age_Group      Adult (24-65 yrs)  Senior (65+ yrs)  Youth(under 24 yrs)\n",
       "spending_flag                                                          \n",
       "High Spender               64.76             24.22                11.02\n",
       "Low Spender                63.99             24.98                11.03"
      ]
     },
     "execution_count": 53,
     "metadata": {},
     "output_type": "execute_result"
    }
   ],
   "source": [
    "crosstab_age_spending"
   ]
  },
  {
   "cell_type": "code",
   "execution_count": 13,
   "id": "d1303333",
   "metadata": {},
   "outputs": [
    {
     "data": {
      "text/plain": [
       "<matplotlib.legend.Legend at 0x208f90a92e0>"
      ]
     },
     "execution_count": 13,
     "metadata": {},
     "output_type": "execute_result"
    },
    {
     "data": {
      "image/png": "[encoded data removed]",
      "text/plain": [
       "<Figure size 432x288 with 1 Axes>"
      ]
     },
     "metadata": {
      "needs_background": "light"
     },
     "output_type": "display_data"
    }
   ],
   "source": [
    "#creating stacked bar chart\n",
    "q8_bar_age_spending=crosstab_age_spending.plot.bar(stacked= True)\n",
    "plt.title('Distribution of age groups in terms of spending category')\n",
    "plt.ylabel(\"Proportion of Age Group in %\", fontsize=9)\n",
    "plt.xlabel(\"Spending category\",fontsize=9)\n",
    "\n",
    "#placing legend outside plot\n",
    "plt.legend(loc='center left', bbox_to_anchor=(1, 0.5))\n"
   ]
  },
  {
   "cell_type": "code",
   "execution_count": 15,
   "id": "31e6fcf6",
   "metadata": {},
   "outputs": [],
   "source": [
    "# exporting bar chart\n",
    "q8_bar_age_spending.figure.savefig(os.path.join(path, '04 Analysis', 'Visualizations', 'q8_bar_age_spending.png'),bbox_inches='tight')"
   ]
  },
  {
   "cell_type": "code",
   "execution_count": 16,
   "id": "1f05c824",
   "metadata": {},
   "outputs": [],
   "source": [
    "# Creating crosstab fam_status vs. spending\n",
    "crosstab_famstatus_spending= pd.crosstab(ords_prods_cust_merged_high_activity['spending_flag'],ords_prods_cust_merged_high_activity['fam_status'],dropna=False, normalize='index').round(4)*100"
   ]
  },
  {
   "cell_type": "code",
   "execution_count": 57,
   "id": "8646bb93",
   "metadata": {},
   "outputs": [
    {
     "data": {
      "text/html": [
       "<div>\n",
       "<style scoped>\n",
       "    .dataframe tbody tr th:only-of-type {\n",
       "        vertical-align: middle;\n",
       "    }\n",
       "\n",
       "    .dataframe tbody tr th {\n",
       "        vertical-align: top;\n",
       "    }\n",
       "\n",
       "    .dataframe thead th {\n",
       "        text-align: right;\n",
       "    }\n",
       "</style>\n",
       "<table border=\"1\" class=\"dataframe\">\n",
       "  <thead>\n",
       "    <tr style=\"text-align: right;\">\n",
       "      <th>fam_status</th>\n",
       "      <th>divorced/widowed</th>\n",
       "      <th>living with parents and siblings</th>\n",
       "      <th>married</th>\n",
       "      <th>single</th>\n",
       "    </tr>\n",
       "    <tr>\n",
       "      <th>spending_flag</th>\n",
       "      <th></th>\n",
       "      <th></th>\n",
       "      <th></th>\n",
       "      <th></th>\n",
       "    </tr>\n",
       "  </thead>\n",
       "  <tbody>\n",
       "    <tr>\n",
       "      <th>High Spender</th>\n",
       "      <td>8.34</td>\n",
       "      <td>4.63</td>\n",
       "      <td>71.16</td>\n",
       "      <td>15.87</td>\n",
       "    </tr>\n",
       "    <tr>\n",
       "      <th>Low Spender</th>\n",
       "      <td>8.55</td>\n",
       "      <td>4.79</td>\n",
       "      <td>70.20</td>\n",
       "      <td>16.46</td>\n",
       "    </tr>\n",
       "  </tbody>\n",
       "</table>\n",
       "</div>"
      ],
      "text/plain": [
       "fam_status     divorced/widowed  living with parents and siblings  married  \\\n",
       "spending_flag                                                                \n",
       "High Spender               8.34                              4.63    71.16   \n",
       "Low Spender                8.55                              4.79    70.20   \n",
       "\n",
       "fam_status     single  \n",
       "spending_flag          \n",
       "High Spender    15.87  \n",
       "Low Spender     16.46  "
      ]
     },
     "execution_count": 57,
     "metadata": {},
     "output_type": "execute_result"
    }
   ],
   "source": [
    "crosstab_famstatus_spending"
   ]
  },
  {
   "cell_type": "code",
   "execution_count": 17,
   "id": "e2de2c4b",
   "metadata": {},
   "outputs": [
    {
     "data": {
      "text/plain": [
       "<matplotlib.legend.Legend at 0x208f8f474f0>"
      ]
     },
     "execution_count": 17,
     "metadata": {},
     "output_type": "execute_result"
    },
    {
     "data": {
      "image/png": "[encoded data removed]",
      "text/plain": [
       "<Figure size 432x288 with 1 Axes>"
      ]
     },
     "metadata": {
      "needs_background": "light"
     },
     "output_type": "display_data"
    }
   ],
   "source": [
    "#creating stacked bar chart\n",
    "q8_bar_famstatus_spending=crosstab_famstatus_spending.plot.bar(stacked= True)\n",
    "plt.title('Distribution of family status in terms of spending category')\n",
    "plt.ylabel(\"Proportion of family status in %\", fontsize=9)\n",
    "plt.xlabel(\"Spending category\",fontsize=9)\n",
    "plt.legend(loc='center left', bbox_to_anchor=(1, 0.5))"
   ]
  },
  {
   "cell_type": "code",
   "execution_count": 18,
   "id": "4d0e03e8",
   "metadata": {},
   "outputs": [],
   "source": [
    "# exporting bar chart\n",
    "q8_bar_famstatus_spending.figure.savefig(os.path.join(path, '04 Analysis', 'Visualizations', 'q8_bar_famstatus_spending.png'), bbox_inches='tight')"
   ]
  },
  {
   "cell_type": "markdown",
   "id": "ca70382e",
   "metadata": {},
   "source": [
    "Q9.What different classifications does the demographic information suggest? Age? Income? Certain types of goods? Family status?\n"
   ]
  },
  {
   "cell_type": "code",
   "execution_count": 60,
   "id": "fd60a4c4",
   "metadata": {},
   "outputs": [
    {
     "data": {
      "text/plain": [
       "Text(0.5, 1.0, 'Age Group Distribution of customers')"
      ]
     },
     "execution_count": 60,
     "metadata": {},
     "output_type": "execute_result"
    },
    {
     "data": {
      "image/png": "[encoded data removed]",
      "text/plain": [
       "<Figure size 432x288 with 1 Axes>"
      ]
     },
     "metadata": {},
     "output_type": "display_data"
    }
   ],
   "source": [
    "# creating age chart\n",
    "q9_pie_age=ords_prods_cust_merged_high_activity['Age_Group'].value_counts().plot.pie(autopct = '%1.0f%%')\n",
    "plt.ylabel(None)\n",
    "plt.title('Age Group Distribution of customers')"
   ]
  },
  {
   "cell_type": "code",
   "execution_count": 61,
   "id": "3526b736",
   "metadata": {},
   "outputs": [],
   "source": [
    "# exporting age chart\n",
    "q9_pie_age.figure.savefig(os.path.join(path, '04 Analysis', 'Visualizations', 'q9_pie_age.png'))"
   ]
  },
  {
   "cell_type": "code",
   "execution_count": 62,
   "id": "4a484ca3",
   "metadata": {},
   "outputs": [
    {
     "data": {
      "text/plain": [
       "Text(0, 0.5, '')"
      ]
     },
     "execution_count": 62,
     "metadata": {},
     "output_type": "execute_result"
    },
    {
     "data": {
      "image/png": "[encoded data removed]",
      "text/plain": [
       "<Figure size 432x288 with 1 Axes>"
      ]
     },
     "metadata": {},
     "output_type": "display_data"
    }
   ],
   "source": [
    "#creating income chart\n",
    "q9_pie_income=ords_prods_cust_merged_high_activity['Income_flag'].value_counts(dropna=False).plot.pie(autopct = '%1.0f%%')\n",
    "plt.title('Income distribution of customers')\n",
    "plt.ylabel(None)"
   ]
  },
  {
   "cell_type": "code",
   "execution_count": 63,
   "id": "ba39fe8d",
   "metadata": {},
   "outputs": [],
   "source": [
    "# exporting income chart\n",
    "q9_pie_income.figure.savefig(os.path.join(path, '04 Analysis', 'Visualizations', 'q9_pie_income.png'))"
   ]
  },
  {
   "cell_type": "code",
   "execution_count": 64,
   "id": "92ec1370",
   "metadata": {},
   "outputs": [
    {
     "data": {
      "text/plain": [
       "Text(0, 0.5, '')"
      ]
     },
     "execution_count": 64,
     "metadata": {},
     "output_type": "execute_result"
    },
    {
     "data": {
      "image/png": "[encoded data removed]",
      "text/plain": [
       "<Figure size 432x288 with 1 Axes>"
      ]
     },
     "metadata": {},
     "output_type": "display_data"
    }
   ],
   "source": [
    "#creating children chart\n",
    "q9_pie_children=ords_prods_cust_merged_high_activity['Children'].value_counts(dropna=False).plot.pie(autopct = '%1.0f%%')\n",
    "plt.title('Customer status in regards children')\n",
    "plt.ylabel(None)"
   ]
  },
  {
   "cell_type": "code",
   "execution_count": 65,
   "id": "60ece7cd",
   "metadata": {},
   "outputs": [],
   "source": [
    "# exporting children chart\n",
    "q9_pie_children.figure.savefig(os.path.join(path, '04 Analysis', 'Visualizations', 'q9_pie_children.png'))"
   ]
  },
  {
   "cell_type": "markdown",
   "id": "cc3a2e75",
   "metadata": {},
   "source": [
    "# EXPORTING DATASET WITH NEW COLUMNS FROM THIS NOTEBOOK"
   ]
  },
  {
   "cell_type": "code",
   "execution_count": 66,
   "id": "aa4422f0",
   "metadata": {},
   "outputs": [],
   "source": [
    "ords_prods_cust_merged_high_activity_FINAL=ords_prods_cust_merged_high_activity.to_pickle(os.path.join(path, '02 Data','Prepared Data', 'ords_prods_cust_merged_high_activity_FINAL.pkl'))"
   ]
  },
  {
   "cell_type": "code",
   "execution_count": null,
   "id": "1b15893f",
   "metadata": {},
   "outputs": [],
   "source": []
  }
 ],
 "metadata": {
  "interpreter": {
   "hash": "37bc9cb481dd76020e77350174e1075615d0c5d54844476f7953063dbc44c26a"
  },
  "kernelspec": {
   "display_name": "Python 3.9.12 64-bit (windows store)",
   "language": "python",
   "name": "python3"
  },
  "language_info": {
   "codemirror_mode": {
    "name": "ipython",
    "version": 3
   },
   "file_extension": ".py",
   "mimetype": "text/x-python",
   "name": "python",
   "nbconvert_exporter": "python",
   "pygments_lexer": "ipython3",
   "version": "3.9.12"
  }
 },
 "nbformat": 4,
 "nbformat_minor": 5
}
