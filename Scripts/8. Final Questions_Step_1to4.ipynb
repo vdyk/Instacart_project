{
 "cells": [
  {
   "cell_type": "markdown",
   "id": "24600610",
   "metadata": {},
   "source": [
    "# 00. Table of contents\n",
    "\n",
    " - Importing libraries\n",
    " - Importing Dataset\n",
    " - Considering security implications - adressing PII Data\n",
    " - Creating a regional segmentation of the data\n",
    " - Determining difference in spending habits between the different regions (bar chart)\n",
    " - Creating an exclusion flag for low-activity customers\n",
    " - Excluding low activity customers"
   ]
  },
  {
   "cell_type": "markdown",
   "id": "7d23da85",
   "metadata": {},
   "source": [
    "# <ins>STEP 1</ins>"
   ]
  },
  {
   "cell_type": "markdown",
   "id": "1b5fc44f",
   "metadata": {},
   "source": [
    "### Importing libraries"
   ]
  },
  {
   "cell_type": "code",
   "execution_count": 1,
   "id": "f837042b",
   "metadata": {},
   "outputs": [],
   "source": [
    "import pandas as pd\n",
    "import numpy as np\n",
    "import os\n",
    "import matplotlib.pyplot as plt\n",
    "import seaborn as sns\n",
    "import scipy"
   ]
  },
  {
   "cell_type": "markdown",
   "id": "b90e31e3",
   "metadata": {},
   "source": [
    "### Importing dataset"
   ]
  },
  {
   "cell_type": "code",
   "execution_count": 2,
   "id": "8b08b99b",
   "metadata": {},
   "outputs": [],
   "source": [
    "path = r'C:\\Users\\viki\\Documents\\Data Analytics\\Immersion\\Achievement 4\\Instacart Basket Analysis'"
   ]
  },
  {
   "cell_type": "code",
   "execution_count": 3,
   "id": "f92e9962",
   "metadata": {},
   "outputs": [],
   "source": [
    "ords_prods_cust_merged= pd.read_pickle(os.path.join(path, '02 Data', 'Prepared Data', 'ords_prods_cust_merged.pkl'))"
   ]
  },
  {
   "cell_type": "markdown",
   "id": "5e60262a",
   "metadata": {},
   "source": [
    "# <ins>STEP 2</ins>"
   ]
  },
  {
   "cell_type": "markdown",
   "id": "3d67b631",
   "metadata": {},
   "source": [
    "### Considering security implications - adressing PII Data"
   ]
  },
  {
   "cell_type": "code",
   "execution_count": 4,
   "id": "e0ffc10c",
   "metadata": {},
   "outputs": [
    {
     "data": {
      "text/plain": [
       "Index(['order_id', 'user_id', 'order_number', 'orders_day_of_week',\n",
       "       'order_hour_of_day', 'days_since_prior_order', 'product_id',\n",
       "       'add_to_cart_order', 'reordered', 'product_name', 'aisle_id',\n",
       "       'department_id', 'prices', 'price_range_loc', 'busiest_day',\n",
       "       'busiest_days', 'busiest_period_of_day', 'max_order', 'loyalty_flag',\n",
       "       'avg_price_of_products_purchased', 'spending_flag',\n",
       "       'median_days_since_prior_order', 'frequency_flag', 'First Name',\n",
       "       'Surname', 'Gender', 'State', 'Age', 'date_joined', 'n_dependants',\n",
       "       'fam_status', 'Income'],\n",
       "      dtype='object')"
      ]
     },
     "execution_count": 4,
     "metadata": {},
     "output_type": "execute_result"
    }
   ],
   "source": [
    "# checking columns\n",
    "ords_prods_cust_merged.columns"
   ]
  },
  {
   "cell_type": "code",
   "execution_count": 5,
   "id": "8b257523",
   "metadata": {},
   "outputs": [
    {
     "data": {
      "text/plain": [
       "(32404859, 32)"
      ]
     },
     "execution_count": 5,
     "metadata": {},
     "output_type": "execute_result"
    }
   ],
   "source": [
    "ords_prods_cust_merged.shape"
   ]
  },
  {
   "cell_type": "code",
   "execution_count": 6,
   "id": "847e593b",
   "metadata": {},
   "outputs": [],
   "source": [
    "# dropping columns \"first name\" and \"Surname\"\n",
    "ords_prods_cust_merged = ords_prods_cust_merged.drop(columns= ['First Name','Surname'])"
   ]
  },
  {
   "cell_type": "code",
   "execution_count": 7,
   "id": "c559f642",
   "metadata": {},
   "outputs": [
    {
     "data": {
      "text/plain": [
       "(32404859, 30)"
      ]
     },
     "execution_count": 7,
     "metadata": {},
     "output_type": "execute_result"
    }
   ],
   "source": [
    "ords_prods_cust_merged.shape"
   ]
  },
  {
   "cell_type": "markdown",
   "id": "37f2d25c",
   "metadata": {},
   "source": [
    "# <ins>STEP 3</ins>"
   ]
  },
  {
   "cell_type": "markdown",
   "id": "65fd7faf",
   "metadata": {},
   "source": [
    "### Creating a regional segmentation of the data"
   ]
  },
  {
   "cell_type": "code",
   "execution_count": 8,
   "id": "809aca06",
   "metadata": {},
   "outputs": [
    {
     "data": {
      "text/plain": [
       "Pennsylvania            667082\n",
       "California              659783\n",
       "Rhode Island            656913\n",
       "Georgia                 656389\n",
       "New Mexico              654494\n",
       "Arizona                 653964\n",
       "North Carolina          651900\n",
       "Oklahoma                651739\n",
       "Alaska                  648495\n",
       "Minnesota               647825\n",
       "Massachusetts           646358\n",
       "Wyoming                 644255\n",
       "Virginia                641421\n",
       "Missouri                640732\n",
       "Texas                   640394\n",
       "Colorado                639280\n",
       "Maine                   638583\n",
       "North Dakota            638491\n",
       "Alabama                 638003\n",
       "Kansas                  637538\n",
       "Louisiana               637482\n",
       "Delaware                637024\n",
       "South Carolina          636754\n",
       "Oregon                  636425\n",
       "Arkansas                636144\n",
       "Nevada                  636139\n",
       "New York                635983\n",
       "Montana                 635265\n",
       "South Dakota            633772\n",
       "Illinois                633024\n",
       "Hawaii                  632901\n",
       "Washington              632852\n",
       "Mississippi             632675\n",
       "Kentucky                632490\n",
       "Michigan                630928\n",
       "Florida                 629027\n",
       "Ohio                    628319\n",
       "Wisconsin               628108\n",
       "New Jersey              627692\n",
       "Indiana                 627282\n",
       "Maryland                626579\n",
       "Nebraska                625813\n",
       "Iowa                    625493\n",
       "Connecticut             623022\n",
       "Tennessee               617873\n",
       "New Hampshire           615378\n",
       "District of Columbia    613695\n",
       "West Virginia           612296\n",
       "Utah                    611941\n",
       "Vermont                 611725\n",
       "Idaho                   607119\n",
       "Name: State, dtype: int64"
      ]
     },
     "execution_count": 8,
     "metadata": {},
     "output_type": "execute_result"
    }
   ],
   "source": [
    "# checking values in the State column\n",
    "ords_prods_cust_merged['State'].value_counts()"
   ]
  },
  {
   "cell_type": "code",
   "execution_count": 9,
   "id": "5d209a68",
   "metadata": {},
   "outputs": [
    {
     "data": {
      "text/plain": [
       "(32404859, 30)"
      ]
     },
     "execution_count": 9,
     "metadata": {},
     "output_type": "execute_result"
    }
   ],
   "source": [
    "ords_prods_cust_merged.shape"
   ]
  },
  {
   "cell_type": "code",
   "execution_count": 10,
   "id": "89973ba5",
   "metadata": {},
   "outputs": [],
   "source": [
    "# creating a new column as a flag for the region of the customer residency\n",
    "ords_prods_cust_merged.loc[ords_prods_cust_merged['State'].isin (['Maine','New Hampshire','Vermont','Massachusetts','Rhode Island','Connecticut','New York','Pennsylvania','New Jersey']), 'region_flag']= 'Northeast'\n",
    "ords_prods_cust_merged.loc[ords_prods_cust_merged['State'].isin (['Wisconsin','Michigan','Illinois','Indiana','Ohio','North Dakota','South Dakota','Nebraska','Kansas','Minnesota','Iowa','Missouri']), 'region_flag']= 'Midwest'\n",
    "ords_prods_cust_merged.loc[ords_prods_cust_merged['State'].isin (['Delaware','Maryland','District of Columbia','Virginia','West Virginia','North Carolina','South Carolina','Georgia','Florida','Kentucky','Tennessee','Mississippi','Alabama','Oklahoma','Texas','Arkansas','Louisiana']), 'region_flag']= 'South'\n",
    "ords_prods_cust_merged.loc[ords_prods_cust_merged['State'].isin (['Idaho','Montana','Wyoming','Nevada','Utah','Colorado','Arizona','New Mexico','Alaska','Washington','Oregon','California','Hawaii']), 'region_flag']= 'West'"
   ]
  },
  {
   "cell_type": "code",
   "execution_count": 11,
   "id": "1aa3b160",
   "metadata": {},
   "outputs": [
    {
     "data": {
      "text/plain": [
       "(32404859, 31)"
      ]
     },
     "execution_count": 11,
     "metadata": {},
     "output_type": "execute_result"
    }
   ],
   "source": [
    "#checking if column was created\n",
    "ords_prods_cust_merged.shape"
   ]
  },
  {
   "cell_type": "code",
   "execution_count": 12,
   "id": "495cc9d3",
   "metadata": {},
   "outputs": [
    {
     "data": {
      "text/plain": [
       "South        10791885\n",
       "West          8292913\n",
       "Midwest       7597325\n",
       "Northeast     5722736\n",
       "Name: region_flag, dtype: int64"
      ]
     },
     "execution_count": 12,
     "metadata": {},
     "output_type": "execute_result"
    }
   ],
   "source": [
    "# checking if new column is not holding any missing values and flagging was successful\n",
    "ords_prods_cust_merged['region_flag'].value_counts(dropna=False)"
   ]
  },
  {
   "cell_type": "markdown",
   "id": "8e637b31",
   "metadata": {},
   "source": [
    "### Determining difference in spending habits between the different regions"
   ]
  },
  {
   "cell_type": "code",
   "execution_count": 13,
   "id": "fdf63d7f",
   "metadata": {},
   "outputs": [],
   "source": [
    "# creating a pivot of region and spending flags\n",
    "df_spending_habits= ords_prods_cust_merged.groupby(['region_flag']).spending_flag.value_counts().unstack()"
   ]
  },
  {
   "cell_type": "code",
   "execution_count": 14,
   "id": "266e1170",
   "metadata": {},
   "outputs": [
    {
     "data": {
      "text/html": [
       "<div>\n",
       "<style scoped>\n",
       "    .dataframe tbody tr th:only-of-type {\n",
       "        vertical-align: middle;\n",
       "    }\n",
       "\n",
       "    .dataframe tbody tr th {\n",
       "        vertical-align: top;\n",
       "    }\n",
       "\n",
       "    .dataframe thead th {\n",
       "        text-align: right;\n",
       "    }\n",
       "</style>\n",
       "<table border=\"1\" class=\"dataframe\">\n",
       "  <thead>\n",
       "    <tr style=\"text-align: right;\">\n",
       "      <th>spending_flag</th>\n",
       "      <th>High Spender</th>\n",
       "      <th>Low Spender</th>\n",
       "    </tr>\n",
       "    <tr>\n",
       "      <th>region_flag</th>\n",
       "      <th></th>\n",
       "      <th></th>\n",
       "    </tr>\n",
       "  </thead>\n",
       "  <tbody>\n",
       "    <tr>\n",
       "      <th>Midwest</th>\n",
       "      <td>155932</td>\n",
       "      <td>7441393</td>\n",
       "    </tr>\n",
       "    <tr>\n",
       "      <th>Northeast</th>\n",
       "      <td>108180</td>\n",
       "      <td>5614556</td>\n",
       "    </tr>\n",
       "    <tr>\n",
       "      <th>South</th>\n",
       "      <td>209481</td>\n",
       "      <td>10582404</td>\n",
       "    </tr>\n",
       "    <tr>\n",
       "      <th>West</th>\n",
       "      <td>160271</td>\n",
       "      <td>8132642</td>\n",
       "    </tr>\n",
       "  </tbody>\n",
       "</table>\n",
       "</div>"
      ],
      "text/plain": [
       "spending_flag  High Spender  Low Spender\n",
       "region_flag                             \n",
       "Midwest              155932      7441393\n",
       "Northeast            108180      5614556\n",
       "South                209481     10582404\n",
       "West                 160271      8132642"
      ]
     },
     "execution_count": 14,
     "metadata": {},
     "output_type": "execute_result"
    }
   ],
   "source": [
    "df_spending_habits.sort_index()"
   ]
  },
  {
   "cell_type": "code",
   "execution_count": 15,
   "id": "6c530523",
   "metadata": {},
   "outputs": [
    {
     "data": {
      "text/plain": [
       "Text(0.5, 1.0, 'Regional Spending Habits')"
      ]
     },
     "execution_count": 15,
     "metadata": {},
     "output_type": "execute_result"
    },
    {
     "data": {
      "image/png": "[encoded data removed]",
      "text/plain": [
       "<Figure size 432x288 with 1 Axes>"
      ]
     },
     "metadata": {
      "needs_background": "light"
     },
     "output_type": "display_data"
    }
   ],
   "source": [
    "# creating bar chart\n",
    "ax = df_spending_habits.plot(kind='bar',xlabel='Region', ylabel='Number of customers')\n",
    "ax.legend(title='Spending flag', bbox_to_anchor=(1, 1), loc='upper left')\n",
    "plt.title('Regional Spending Habits')"
   ]
  },
  {
   "cell_type": "code",
   "execution_count": 16,
   "id": "77165fb5",
   "metadata": {},
   "outputs": [
    {
     "data": {
      "text/plain": [
       "Text(0, 0.5, 'Number of High Spenders')"
      ]
     },
     "execution_count": 16,
     "metadata": {},
     "output_type": "execute_result"
    },
    {
     "data": {
      "image/png": "[encoded data removed]",
      "text/plain": [
       "<Figure size 432x288 with 1 Axes>"
      ]
     },
     "metadata": {
      "needs_background": "light"
     },
     "output_type": "display_data"
    }
   ],
   "source": [
    "# creating another bar chart\n",
    "df_spending_habits['High Spender'].plot.bar()\n",
    "plt.title('High Spenders per Region')\n",
    "plt.xlabel(\"Region\", fontsize=9)\n",
    "plt.ylabel(\"Number of High Spenders\",fontsize=9)"
   ]
  },
  {
   "cell_type": "markdown",
   "id": "4f292288",
   "metadata": {},
   "source": [
    "# <ins>STEP 4</ins>"
   ]
  },
  {
   "cell_type": "markdown",
   "id": "519d1b30",
   "metadata": {},
   "source": [
    "### Creating an exclusion flag for low-activity customers (customers with less than 5 orders)"
   ]
  },
  {
   "cell_type": "code",
   "execution_count": 17,
   "id": "9ad9c8cb",
   "metadata": {},
   "outputs": [],
   "source": [
    "# creating new column with exclusion flag\n",
    "ords_prods_cust_merged.loc[ords_prods_cust_merged['max_order']<5, 'activity']= 'low activity'\n",
    "ords_prods_cust_merged.loc[ords_prods_cust_merged['max_order']>=5, 'activity']= 'normal to high activity'"
   ]
  },
  {
   "cell_type": "code",
   "execution_count": 18,
   "id": "52cf6cfa",
   "metadata": {},
   "outputs": [
    {
     "data": {
      "text/plain": [
       "(32404859, 32)"
      ]
     },
     "execution_count": 18,
     "metadata": {},
     "output_type": "execute_result"
    }
   ],
   "source": [
    "# checking if column creation was succesful\n",
    "ords_prods_cust_merged.shape"
   ]
  },
  {
   "cell_type": "code",
   "execution_count": 19,
   "id": "bf91a93a",
   "metadata": {},
   "outputs": [
    {
     "data": {
      "text/plain": [
       "normal to high activity    30964564\n",
       "low activity                1440295\n",
       "Name: activity, dtype: int64"
      ]
     },
     "execution_count": 19,
     "metadata": {},
     "output_type": "execute_result"
    }
   ],
   "source": [
    "# checking if assigning values to the new column was succesful\n",
    "ords_prods_cust_merged['activity'].value_counts(dropna= False)"
   ]
  },
  {
   "cell_type": "markdown",
   "id": "2c0ab495",
   "metadata": {},
   "source": [
    "###  Excluding low activity customers from the dataset"
   ]
  },
  {
   "cell_type": "code",
   "execution_count": 20,
   "id": "ef462218",
   "metadata": {},
   "outputs": [],
   "source": [
    "# creating new df with only high activity customers\n",
    "ords_prods_cust_merged_high_activity= ords_prods_cust_merged[ords_prods_cust_merged.activity!='low activity']\n",
    "ords_prods_cust_merged= None"
   ]
  },
  {
   "cell_type": "code",
   "execution_count": 21,
   "id": "42f79b45",
   "metadata": {},
   "outputs": [
    {
     "data": {
      "text/plain": [
       "(30964564, 32)"
      ]
     },
     "execution_count": 21,
     "metadata": {},
     "output_type": "execute_result"
    }
   ],
   "source": [
    "# checking new df if rows with low activity customers have been excluded\n",
    "ords_prods_cust_merged_high_activity. shape"
   ]
  },
  {
   "cell_type": "code",
   "execution_count": 22,
   "id": "dccdb392",
   "metadata": {},
   "outputs": [],
   "source": [
    "# saving df with only high activity customers\n",
    "ords_prods_cust_merged_high_activity.to_pickle(os.path.join(path, '02 Data','Prepared Data', 'ords_prods_cust_merged_high_activity.pkl'))"
   ]
  },
  {
   "cell_type": "code",
   "execution_count": null,
   "id": "e7836b02",
   "metadata": {},
   "outputs": [],
   "source": []
  }
 ],
 "metadata": {
  "kernelspec": {
   "display_name": "Python 3 (ipykernel)",
   "language": "python",
   "name": "python3"
  },
  "language_info": {
   "codemirror_mode": {
    "name": "ipython",
    "version": 3
   },
   "file_extension": ".py",
   "mimetype": "text/x-python",
   "name": "python",
   "nbconvert_exporter": "python",
   "pygments_lexer": "ipython3",
   "version": "3.9.7"
  }
 },
 "nbformat": 4,
 "nbformat_minor": 5
}
